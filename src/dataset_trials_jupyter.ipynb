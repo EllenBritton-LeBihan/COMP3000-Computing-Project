{
 "cells": [
  {
   "cell_type": "markdown",
   "metadata": {},
   "source": [
    "<h2>Experimentation on RF model training for integration with Flask Application</h2>"
   ]
  },
  {
   "cell_type": "markdown",
   "metadata": {},
   "source": []
  },
  {
   "cell_type": "code",
   "execution_count": 7,
   "metadata": {},
   "outputs": [],
   "source": [
    "import pandas as pd"
   ]
  },
  {
   "cell_type": "markdown",
   "metadata": {},
   "source": []
  },
  {
   "cell_type": "code",
   "execution_count": 8,
   "metadata": {},
   "outputs": [],
   "source": [
    "#load datasets\n",
    "ceas = 'data/CEAS_08.csv'\n",
    "nazario = 'data/Nazario.csv'\n",
    "fraud = 'data/Nigerian_Fraud.csv'\n",
    "spam = 'data/SpamAssasin.csv'\n"
   ]
  },
  {
   "cell_type": "code",
   "execution_count": 9,
   "metadata": {},
   "outputs": [],
   "source": [
    "ceas = pd.read_csv('data/CEAS_08.csv')\n",
    "nazario = pd.read_csv('data/Nazario.csv')\n",
    "fraud = pd.read_csv('data/Nigerian_Fraud.csv')\n",
    "spam = pd.read_csv('data/SpamAssasin.csv')\n",
    "\n"
   ]
  },
  {
   "cell_type": "code",
   "execution_count": 10,
   "metadata": {},
   "outputs": [
    {
     "name": "stdout",
     "output_type": "stream",
     "text": [
      "                                              sender  \\\n",
      "0                   Young Esposito <Young@iworld.de>   \n",
      "1                       Mok <ipline's1983@icable.ph>   \n",
      "2  Daily Top 10 <Karmandeep-opengevl@universalnet...   \n",
      "3                 Michael Parker <ivqrnai@pobox.com>   \n",
      "4  Gretchen Suggs <externalsep1@loanofficertool.com>   \n",
      "\n",
      "                                         receiver  \\\n",
      "0                     user4@gvc.ceas-challenge.cc   \n",
      "1                   user2.2@gvc.ceas-challenge.cc   \n",
      "2                   user2.9@gvc.ceas-challenge.cc   \n",
      "3  SpamAssassin Dev <xrh@spamassassin.apache.org>   \n",
      "4                   user2.2@gvc.ceas-challenge.cc   \n",
      "\n",
      "                              date  \\\n",
      "0  Tue, 05 Aug 2008 16:31:02 -0700   \n",
      "1  Tue, 05 Aug 2008 18:31:03 -0500   \n",
      "2  Tue, 05 Aug 2008 20:28:00 -1200   \n",
      "3  Tue, 05 Aug 2008 17:31:20 -0600   \n",
      "4  Tue, 05 Aug 2008 19:31:21 -0400   \n",
      "\n",
      "                                             subject  \\\n",
      "0                          Never agree to be a loser   \n",
      "1                             Befriend Jenna Jameson   \n",
      "2                               CNN.com Daily Top 10   \n",
      "3  Re: svn commit: r619753 - in /spamassassin/tru...   \n",
      "4                         SpecialPricesPharmMoreinfo   \n",
      "\n",
      "                                                body  label  urls  \n",
      "0  Buck up, your troubles caused by small dimensi...      1     1  \n",
      "1  \\nUpgrade your sex and pleasures with these te...      1     1  \n",
      "2  >+=+=+=+=+=+=+=+=+=+=+=+=+=+=+=+=+=+=+=+=+=+=+...      1     1  \n",
      "3  Would anyone object to removing .so from this ...      0     1  \n",
      "4  \\nWelcomeFastShippingCustomerSupport\\nhttp://7...      1     1  \n",
      "                                              sender  \\\n",
      "0  Mail System Internal Data <MAILER-DAEMON@monke...   \n",
      "1                        cPanel <service@cpanel.com>   \n",
      "2    Microsoft Outlook <recepcao@unimedceara.com.br>   \n",
      "3                     Ann Garcia <AnGarcia@mcoe.org>   \n",
      "4                 \"USAA\" <usaaacctupdate@sccu4u.com>   \n",
      "\n",
      "                                 receiver  \\\n",
      "0                                     NaN   \n",
      "1                         jose@monkey.org   \n",
      "2                                     NaN   \n",
      "3     \"info@maaaaa.org\" <info@maaaaa.org>   \n",
      "4  Recipients <usaaacctupdate@sccu4u.com>   \n",
      "\n",
      "                                    date  \\\n",
      "0             28 Sep 2017 09:57:25 -0400   \n",
      "1        Fri, 30 Oct 2015 00:00:48 -0500   \n",
      "2  Fri, 30 Oct 2015 06:21:59 -0300 (BRT)   \n",
      "3        Fri, 30 Oct 2015 14:54:33 +0000   \n",
      "4        Fri, 30 Oct 2015 14:02:33 -0500   \n",
      "\n",
      "                                             subject  \\\n",
      "0  DON'T DELETE THIS MESSAGE -- FOLDER INTERNAL DATA   \n",
      "1                                Verify Your Account   \n",
      "2                          Helpdesk Mailbox Alert!!!   \n",
      "3                               IT-Service Help Desk   \n",
      "4      Final USAA Reminder - Update Your Account Now   \n",
      "\n",
      "                                                body  urls  label  \n",
      "0  This text is part of the internal format of yo...     1      1  \n",
      "1  Business with  \\t\\t\\t\\t\\t\\t\\t\\tcPanel & WHM \\t...     1      1  \n",
      "2  Your two incoming mails were placed on pending...     1      1  \n",
      "3  Password will expire in 3 days. Click Here To ...     0      1  \n",
      "4  To ensure delivery to your inbox, please add U...     1      1  \n",
      "                                           sender              receiver  \\\n",
      "0  MR. JAMES NGOLA. <james_ngola2002@maktoob.com>  webmaster@aclweb.org   \n",
      "1  Mr. Ben Suleman <bensul2004nng@spinfinder.com>                   R@M   \n",
      "2       PRINCE OBONG ELEME <obong_715@epatra.com>  webmaster@aclweb.org   \n",
      "3       PRINCE OBONG ELEME <obong_715@epatra.com>  webmaster@aclweb.org   \n",
      "4              Maryam Abacha <m_abacha03@www.com>                   R@M   \n",
      "\n",
      "                              date  \\\n",
      "0  Thu, 31 Oct 2002 02:38:20 +0000   \n",
      "1  Thu, 31 Oct 2002 05:10:00 -0000   \n",
      "2  Thu, 31 Oct 2002 22:17:55 +0100   \n",
      "3  Thu, 31 Oct 2002 22:44:20 -0000   \n",
      "4  Fri, 01 Nov 2002 01:45:04 +0100   \n",
      "\n",
      "                                      subject  \\\n",
      "0  URGENT BUSINESS ASSISTANCE AND PARTNERSHIP   \n",
      "1         URGENT ASSISTANCE /RELATIONSHIP (P)   \n",
      "2                             GOOD DAY TO YOU   \n",
      "3                             GOOD DAY TO YOU   \n",
      "4                     I Need Your Assistance.   \n",
      "\n",
      "                                                body  urls  label  \n",
      "0  FROM:MR. JAMES NGOLA.\\nCONFIDENTIAL TEL: 233-2...     0      1  \n",
      "1  Dear Friend,\\n\\nI am Mr. Ben Suleman a custom ...     0      1  \n",
      "2  FROM HIS ROYAL MAJESTY (HRM) CROWN RULER OF EL...     0      1  \n",
      "3  FROM HIS ROYAL MAJESTY (HRM) CROWN RULER OF EL...     0      1  \n",
      "4  Dear sir, \\n \\nIt is with a heart full of hope...     0      1  \n",
      "                                      sender  \\\n",
      "0             Robert Elz <kre@munnari.OZ.AU>   \n",
      "1  Steve Burt <Steve_Burt@cursor-system.com>   \n",
      "2              \"Tim Chapman\" <timc@2ubh.com>   \n",
      "3           Monty Solomon <monty@roscom.com>   \n",
      "4  Stewart Smith <Stewart.Smith@ee.ed.ac.uk>   \n",
      "\n",
      "                                            receiver  \\\n",
      "0  Chris Garrigues <cwg-dated-1030377287.06fa6d@D...   \n",
      "1  \"'zzzzteana@yahoogroups.com'\" <zzzzteana@yahoo...   \n",
      "2              zzzzteana <zzzzteana@yahoogroups.com>   \n",
      "3                           undisclosed-recipient: ;   \n",
      "4                          zzzzteana@yahoogroups.com   \n",
      "\n",
      "                              date  \\\n",
      "0  Thu, 22 Aug 2002 18:26:25 +0700   \n",
      "1  Thu, 22 Aug 2002 12:46:18 +0100   \n",
      "2  Thu, 22 Aug 2002 13:52:38 +0100   \n",
      "3  Thu, 22 Aug 2002 09:15:25 -0400   \n",
      "4  Thu, 22 Aug 2002 14:38:22 +0100   \n",
      "\n",
      "                                          subject  \\\n",
      "0                        Re: New Sequences Window   \n",
      "1                       [zzzzteana] RE: Alexander   \n",
      "2                       [zzzzteana] Moscow bomber   \n",
      "3           [IRR] Klez: The Virus That  Won't Die   \n",
      "4  Re: [zzzzteana] Nothing like mama used to make   \n",
      "\n",
      "                                                body  label  urls  \n",
      "0  Date:        Wed, 21 Aug 2002 10:54:46 -0500  ...      0     1  \n",
      "1  Martin A posted:\\nTassos Papadopoulos, the Gre...      0     1  \n",
      "2  Man Threatens Explosion In Moscow \\n\\nThursday...      0     1  \n",
      "3  Klez: The Virus That Won't Die\\n \\nAlready the...      0     1  \n",
      "4  >  in adding cream to spaghetti carbonara, whi...      0     1  \n"
     ]
    }
   ],
   "source": [
    "print(ceas.head())\n",
    "print(nazario.head())\n",
    "print(fraud.head())\n",
    "print(spam.head())"
   ]
  },
  {
   "cell_type": "code",
   "execution_count": 11,
   "metadata": {},
   "outputs": [],
   "source": [
    "#standardise columns in all datasets\n",
    "ceas.columns = ['Sender', 'Receiver', 'Date', 'Subject', 'Body', 'Urls', 'Label']\n",
    "nazario.columns = ['Sender', 'Receiver', 'Date', 'Subject', 'Body', 'Urls', 'Label']\n",
    "fraud.columns = ['Sender', 'Receiver', 'Date', 'Subject', 'Body', 'Urls', 'Label']\n",
    "spam.columns = ['Sender', 'Receiver', 'Date', 'Subject', 'Body', 'Urls', 'Label']"
   ]
  },
  {
   "cell_type": "code",
   "execution_count": 12,
   "metadata": {},
   "outputs": [],
   "source": [
    "#combine together the datasets for a larger sample\n",
    "combined_dataset = pd.concat([ceas, nazario, fraud, spam])"
   ]
  },
  {
   "cell_type": "code",
   "execution_count": null,
   "metadata": {},
   "outputs": [],
   "source": []
  },
  {
   "cell_type": "code",
   "execution_count": 13,
   "metadata": {},
   "outputs": [
    {
     "name": "stdout",
     "output_type": "stream",
     "text": [
      "Combine dataset shape: (49860, 7)\n"
     ]
    }
   ],
   "source": [
    "print(f\"Combine dataset shape: {combined_dataset.shape}\")"
   ]
  },
  {
   "cell_type": "code",
   "execution_count": 14,
   "metadata": {},
   "outputs": [
    {
     "name": "stdout",
     "output_type": "stream",
     "text": [
      "                                               Sender  \\\n",
      "0                    Young Esposito <Young@iworld.de>   \n",
      "1                        Mok <ipline's1983@icable.ph>   \n",
      "2   Daily Top 10 <Karmandeep-opengevl@universalnet...   \n",
      "3                  Michael Parker <ivqrnai@pobox.com>   \n",
      "4   Gretchen Suggs <externalsep1@loanofficertool.com>   \n",
      "5   Caroline Aragon <dwthaidomainnamesm@thaidomain...   \n",
      "6     Replica Watches <jhorton@thebakercompanies.com>   \n",
      "7              Daily Top 10 <acidirev_1972@tcwpg.com>   \n",
      "8                   qydlqcws-iacfym@issues.apache.org   \n",
      "9       Daily Top 10 <orn|dent_1973@musicaedischi.it>   \n",
      "10    ambrosius edwin <370jcmiller@flychautauqua.com>   \n",
      "11         Alejandra Levy <rehearsings46@gametea.com>   \n",
      "12      Daily Top 10 <Atchuthan-erbatest@weijgers.nl>   \n",
      "13  Daily Top 10 <Scooter-obailat@picklesmaternity...   \n",
      "14              Alphonso Roach <exited@realskate.com>   \n",
      "15                         Racing <uqyrmo@sailing.ie>   \n",
      "16  Daily Top 10 <Joep-ntorions@picklesmaternity.com>   \n",
      "17  Daily Top 10 <Marci-ntelstok@picklesmaternity....   \n",
      "18                Aaron Kulkis <cmiqlkx91@hotpop.com>   \n",
      "19                Aaron Kulkis <cmiqlkx91@hotpop.com>   \n",
      "\n",
      "                                          Receiver  \\\n",
      "0                      user4@gvc.ceas-challenge.cc   \n",
      "1                    user2.2@gvc.ceas-challenge.cc   \n",
      "2                    user2.9@gvc.ceas-challenge.cc   \n",
      "3   SpamAssassin Dev <xrh@spamassassin.apache.org>   \n",
      "4                    user2.2@gvc.ceas-challenge.cc   \n",
      "5                 user7-ext5@gvc.ceas-challenge.cc   \n",
      "6                   user2.10@gvc.ceas-challenge.cc   \n",
      "7                    user2.3@gvc.ceas-challenge.cc   \n",
      "8                      xrh@spamassassin.apache.org   \n",
      "9                      user7@gvc.ceas-challenge.cc   \n",
      "10                     user5@gvc.ceas-challenge.cc   \n",
      "11                  user2.13@gvc.ceas-challenge.cc   \n",
      "12              user8.2-ext1@gvc.ceas-challenge.cc   \n",
      "13                netsearche@gvc.ceas-challenge.cc   \n",
      "14                   user2.7@gvc.ceas-challenge.cc   \n",
      "15                     user5@gvc.ceas-challenge.cc   \n",
      "16                netsearchn@gvc.ceas-challenge.cc   \n",
      "17               netsearchnn@gvc.ceas-challenge.cc   \n",
      "18                opensuse <wkilxloc@opensuse.org>   \n",
      "19                opensuse <wkilxloc@opensuse.org>   \n",
      "\n",
      "                               Date  \\\n",
      "0   Tue, 05 Aug 2008 16:31:02 -0700   \n",
      "1   Tue, 05 Aug 2008 18:31:03 -0500   \n",
      "2   Tue, 05 Aug 2008 20:28:00 -1200   \n",
      "3   Tue, 05 Aug 2008 17:31:20 -0600   \n",
      "4   Tue, 05 Aug 2008 19:31:21 -0400   \n",
      "5   Wed, 06 Aug 2008 05:31:22 +0600   \n",
      "6   Tue, 05 Aug 2008 21:44:01 +0000   \n",
      "7   Tue, 05 Aug 2008 20:41:14 -0300   \n",
      "8   Tue, 05 Aug 2008 15:31:03 -0800   \n",
      "9   Wed, 06 Aug 2008 00:31:38 +0100   \n",
      "10  Tue, 05 Aug 2008 21:44:06 +0000   \n",
      "11  Tue, 05 Aug 2008 21:31:34 -0200   \n",
      "12  Wed, 06 Aug 2008 01:31:36 +0200   \n",
      "13  Tue, 05 Aug 2008 20:30:59 +0200   \n",
      "14  Tue, 05 Aug 2008 18:31:39 -0500   \n",
      "15  Wed, 06 Aug 2008 00:31:14 +0100   \n",
      "16  Tue, 05 Aug 2008 20:31:12 +0200   \n",
      "17  Tue, 05 Aug 2008 20:31:16 +0200   \n",
      "18  Tue, 05 Aug 2008 15:50:37 -0500   \n",
      "19  Tue, 05 Aug 2008 16:31:41 -0500   \n",
      "\n",
      "                                              Subject  \\\n",
      "0                           Never agree to be a loser   \n",
      "1                              Befriend Jenna Jameson   \n",
      "2                                CNN.com Daily Top 10   \n",
      "3   Re: svn commit: r619753 - in /spamassassin/tru...   \n",
      "4                          SpecialPricesPharmMoreinfo   \n",
      "5                                From Caroline Aragon   \n",
      "6                                     Replica Watches   \n",
      "7                                CNN.com Daily Top 10   \n",
      "8   [Bug 5780] URI processing turns uuencoded stri...   \n",
      "9                                CNN.com Daily Top 10   \n",
      "10                                debt consolidation    \n",
      "11  It combines the best of Creative Suite 3 Desig...   \n",
      "12                               CNN.com Daily Top 10   \n",
      "13                               CNN.com Daily Top 10   \n",
      "14                                Fifth / Sixth month   \n",
      "15              RE: Trial IRC Certificate Application   \n",
      "16                               CNN.com Daily Top 10   \n",
      "17                               CNN.com Daily Top 10   \n",
      "18  Re: [opensuse] Why can't I use \"shutdown now\" ...   \n",
      "19    Re: Fwd: [opensuse] Re: openSUSE Boxed Editions   \n",
      "\n",
      "                                                 Body  Urls  Label  \n",
      "0   Buck up, your troubles caused by small dimensi...     1      1  \n",
      "1   \\nUpgrade your sex and pleasures with these te...     1      1  \n",
      "2   >+=+=+=+=+=+=+=+=+=+=+=+=+=+=+=+=+=+=+=+=+=+=+...     1      1  \n",
      "3   Would anyone object to removing .so from this ...     0      1  \n",
      "4   \\nWelcomeFastShippingCustomerSupport\\nhttp://7...     1      1  \n",
      "5   \\n\\n\\n\\n\\nYo wu urS mo ou go rc ebo eForM rgi ...     1      0  \n",
      "6   We have fake Swiss Men's and Ladie's Replica \\...     1      0  \n",
      "7   >+=+=+=+=+=+=+=+=+=+=+=+=+=+=+=+=+=+=+=+=+=+=+...     1      1  \n",
      "8   http://issues.apache.org/SpamAssassin/show_bug...     0      1  \n",
      "9   >+=+=+=+=+=+=+=+=+=+=+=+=+=+=+=+=+=+=+=+=+=+=+...     1      1  \n",
      "10  \\nDo Not consolidate your debt   Eliminate it!...     1      1  \n",
      "11  \\nAdobe Creative Suite 3 Master Collection for...     1      1  \n",
      "12  >+=+=+=+=+=+=+=+=+=+=+=+=+=+=+=+=+=+=+=+=+=+=+...     1      1  \n",
      "13  >+=+=+=+=+=+=+=+=+=+=+=+=+=+=+=+=+=+=+=+=+=+=+...     1      1  \n",
      "14  \\nexpressherbals\\n \\nhttp://pacelike.com\\n \\nF...     1      1  \n",
      "15  \\nPlelim,\\n\\nJust to remind you that if a cert...     0      1  \n",
      "16  >+=+=+=+=+=+=+=+=+=+=+=+=+=+=+=+=+=+=+=+=+=+=+...     1      1  \n",
      "17  >+=+=+=+=+=+=+=+=+=+=+=+=+=+=+=+=+=+=+=+=+=+=+...     1      1  \n",
      "18  Carlos E. R. wrote: > -----BEGIN PGP SIGNED ME...     0      1  \n",
      "19  Steve Jacobs wrote: > ---------- Forwarded mes...     0      1  \n"
     ]
    }
   ],
   "source": [
    "print(combined_dataset.head(20))"
   ]
  },
  {
   "cell_type": "code",
   "execution_count": 15,
   "metadata": {},
   "outputs": [
    {
     "name": "stdout",
     "output_type": "stream",
     "text": [
      "Combine dataset shape: (49772, 7)\n",
      "                                              Sender  \\\n",
      "0                   Young Esposito <Young@iworld.de>   \n",
      "1                       Mok <ipline's1983@icable.ph>   \n",
      "2  Daily Top 10 <Karmandeep-opengevl@universalnet...   \n",
      "3                 Michael Parker <ivqrnai@pobox.com>   \n",
      "4  Gretchen Suggs <externalsep1@loanofficertool.com>   \n",
      "\n",
      "                                         Receiver  \\\n",
      "0                     user4@gvc.ceas-challenge.cc   \n",
      "1                   user2.2@gvc.ceas-challenge.cc   \n",
      "2                   user2.9@gvc.ceas-challenge.cc   \n",
      "3  SpamAssassin Dev <xrh@spamassassin.apache.org>   \n",
      "4                   user2.2@gvc.ceas-challenge.cc   \n",
      "\n",
      "                              Date  \\\n",
      "0  Tue, 05 Aug 2008 16:31:02 -0700   \n",
      "1  Tue, 05 Aug 2008 18:31:03 -0500   \n",
      "2  Tue, 05 Aug 2008 20:28:00 -1200   \n",
      "3  Tue, 05 Aug 2008 17:31:20 -0600   \n",
      "4  Tue, 05 Aug 2008 19:31:21 -0400   \n",
      "\n",
      "                                             Subject  \\\n",
      "0                          Never agree to be a loser   \n",
      "1                             Befriend Jenna Jameson   \n",
      "2                               CNN.com Daily Top 10   \n",
      "3  Re: svn commit: r619753 - in /spamassassin/tru...   \n",
      "4                         SpecialPricesPharmMoreinfo   \n",
      "\n",
      "                                                Body  Urls  Label  \n",
      "0  Buck up, your troubles caused by small dimensi...     1      1  \n",
      "1  \\nUpgrade your sex and pleasures with these te...     1      1  \n",
      "2  >+=+=+=+=+=+=+=+=+=+=+=+=+=+=+=+=+=+=+=+=+=+=+...     1      1  \n",
      "3  Would anyone object to removing .so from this ...     0      1  \n",
      "4  \\nWelcomeFastShippingCustomerSupport\\nhttp://7...     1      1  \n"
     ]
    }
   ],
   "source": [
    "#clean the data\n",
    "    #rem duplicates\n",
    "\n",
    "\n",
    "#rem dups\n",
    "combined_dataset = combined_dataset.drop_duplicates()\n",
    "\n",
    "#drop rows with missings vals\n",
    "combined_dataset = combined_dataset.dropna(subset=['Subject', 'Body'])\n",
    "\n",
    "#check shape \n",
    "print(f\"Combine dataset shape: {combined_dataset.shape}\")\n",
    "\n",
    "print(combined_dataset.head())"
   ]
  },
  {
   "cell_type": "markdown",
   "metadata": {},
   "source": [
    "<h2>Normalise labels</h2>"
   ]
  },
  {
   "cell_type": "code",
   "execution_count": 16,
   "metadata": {},
   "outputs": [
    {
     "name": "stdout",
     "output_type": "stream",
     "text": [
      "NaNs in Label before any transformation: 0\n"
     ]
    }
   ],
   "source": [
    "print(\"NaNs in Label before any transformation:\", combined_dataset['Label'].isna().sum())"
   ]
  },
  {
   "cell_type": "code",
   "execution_count": 17,
   "metadata": {},
   "outputs": [
    {
     "name": "stdout",
     "output_type": "stream",
     "text": [
      "Original labels [1 0]\n"
     ]
    }
   ],
   "source": [
    "#understand \n",
    "print(\"Original labels\", combined_dataset['Label'].unique())\n"
   ]
  },
  {
   "cell_type": "code",
   "execution_count": 18,
   "metadata": {},
   "outputs": [
    {
     "name": "stdout",
     "output_type": "stream",
     "text": [
      "Label\n",
      "1    36073\n",
      "0    13699\n",
      "Name: count, dtype: int64\n"
     ]
    }
   ],
   "source": [
    "print(combined_dataset['Label'].value_counts())"
   ]
  },
  {
   "cell_type": "code",
   "execution_count": 19,
   "metadata": {},
   "outputs": [
    {
     "name": "stdout",
     "output_type": "stream",
     "text": [
      "Combined dataset saved as 'Combined_dataset.csv'\n"
     ]
    }
   ],
   "source": [
    "combined_dataset.to_csv('data/combined_dataset.csv', index=False)\n",
    "\n",
    "print(\"Combined dataset saved as 'Combined_dataset.csv'\")"
   ]
  },
  {
   "cell_type": "markdown",
   "metadata": {},
   "source": [
    "<h2>Feature Engineering</h2>"
   ]
  },
  {
   "cell_type": "code",
   "execution_count": 20,
   "metadata": {},
   "outputs": [],
   "source": [
    "#standard\n",
    "import pandas as pd\n",
    "import numpy as np\n",
    "import re \n",
    "import string"
   ]
  },
  {
   "cell_type": "code",
   "execution_count": 21,
   "metadata": {},
   "outputs": [],
   "source": [
    "#text processing \n",
    "from nltk.corpus import stopwords\n",
    "from sklearn.feature_extraction.text import TfidfVectorizer"
   ]
  },
  {
   "cell_type": "code",
   "execution_count": 22,
   "metadata": {},
   "outputs": [
    {
     "name": "stdout",
     "output_type": "stream",
     "text": [
      "Dataset Shape: (49772, 7)\n"
     ]
    }
   ],
   "source": [
    "print(f\"Dataset Shape: {combined_dataset.shape}\")"
   ]
  },
  {
   "cell_type": "markdown",
   "metadata": {},
   "source": [
    "<h3>To lower, rem special char, nums, and weird punctuation, rem stopwords.</h3>"
   ]
  },
  {
   "cell_type": "code",
   "execution_count": 28,
   "metadata": {},
   "outputs": [],
   "source": [
    "from textstat import flesch_reading_ease, sentence_count\n",
    "from collections import Counter"
   ]
  },
  {
   "cell_type": "code",
   "execution_count": 31,
   "metadata": {},
   "outputs": [],
   "source": [
    "#func to extract stylistic features\n",
    "def extract_text_features(text):\n",
    "    if pd.isnull(text):\n",
    "        return pd.Series([0, 0, 0, 0, 0, 0, 0]) # since is 7D feature vector.\n",
    "    \n",
    "    num_sentences = max(sentence_count(text), 1) #avoid div by 0\n",
    "    words = text.split() # split str to list\n",
    "    num_words = len(words)\n",
    "    num_chars = len(text)\n",
    "\n",
    "    #punctuation/capitalisation\n",
    "    punctuation_count = sum(1 for char in text if char in string.punctuation)\n",
    "    exclamation_count = text.count(\"!\")\n",
    "    question_count = text.count(\"?\")\n",
    "    uppercase_ration = sum(1 for char in text if char.isupper()) / max(len(text), 1)\n",
    "\n",
    "    #readability/sentence complexity\n",
    "    readability_score = flesch_reading_ease(text)\n",
    "    avg_word_length = num_chars / max(num_words, 1)\n",
    "    avg_sentence_length = num_words / num_sentences\n",
    "\n",
    "    return pd.Series([avg_sentence_length, avg_word_length, punctuation_count,\n",
    "                      exclamation_count, question_count, uppercase_ration, readability_score])  \n",
    "             \n"
   ]
  },
  {
   "cell_type": "code",
   "execution_count": 32,
   "metadata": {},
   "outputs": [
    {
     "ename": "AttributeError",
     "evalue": "module 'pandas' has no attribute 'insull'",
     "output_type": "error",
     "traceback": [
      "\u001b[1;31m---------------------------------------------------------------------------\u001b[0m",
      "\u001b[1;31mAttributeError\u001b[0m                            Traceback (most recent call last)",
      "Cell \u001b[1;32mIn[32], line 5\u001b[0m\n\u001b[0;32m      1\u001b[0m \u001b[38;5;66;03m#apply to dataset\u001b[39;00m\n\u001b[0;32m      2\u001b[0m feature_names \u001b[38;5;241m=\u001b[39m [\u001b[38;5;124m'\u001b[39m\u001b[38;5;124mavg_sentence_length\u001b[39m\u001b[38;5;124m'\u001b[39m, \u001b[38;5;124m'\u001b[39m\u001b[38;5;124mavg_word_length\u001b[39m\u001b[38;5;124m'\u001b[39m, \u001b[38;5;124m'\u001b[39m\u001b[38;5;124mpunctuation_count\u001b[39m\u001b[38;5;124m'\u001b[39m,\n\u001b[0;32m      3\u001b[0m                  \u001b[38;5;124m'\u001b[39m\u001b[38;5;124mexclamation_count\u001b[39m\u001b[38;5;124m'\u001b[39m, \u001b[38;5;124m'\u001b[39m\u001b[38;5;124mquestion_count\u001b[39m\u001b[38;5;124m'\u001b[39m, \u001b[38;5;124m'\u001b[39m\u001b[38;5;124muppercase_ration\u001b[39m\u001b[38;5;124m'\u001b[39m, \u001b[38;5;124m'\u001b[39m\u001b[38;5;124mreadability_score\u001b[39m\u001b[38;5;124m'\u001b[39m]\n\u001b[1;32m----> 5\u001b[0m combined_dataset[feature_names] \u001b[38;5;241m=\u001b[39m \u001b[43mcombined_dataset\u001b[49m\u001b[43m[\u001b[49m\u001b[38;5;124;43m'\u001b[39;49m\u001b[38;5;124;43mBody\u001b[39;49m\u001b[38;5;124;43m'\u001b[39;49m\u001b[43m]\u001b[49m\u001b[38;5;241;43m.\u001b[39;49m\u001b[43mapply\u001b[49m\u001b[43m(\u001b[49m\u001b[43mextract_text_features\u001b[49m\u001b[43m)\u001b[49m\n\u001b[0;32m      6\u001b[0m combined_dataset\u001b[38;5;241m.\u001b[39mhead()\n",
      "File \u001b[1;32mc:\\Users\\raider\\AppData\\Local\\Programs\\Python\\Python313\\Lib\\site-packages\\pandas\\core\\series.py:4924\u001b[0m, in \u001b[0;36mSeries.apply\u001b[1;34m(self, func, convert_dtype, args, by_row, **kwargs)\u001b[0m\n\u001b[0;32m   4789\u001b[0m \u001b[38;5;28;01mdef\u001b[39;00m\u001b[38;5;250m \u001b[39m\u001b[38;5;21mapply\u001b[39m(\n\u001b[0;32m   4790\u001b[0m     \u001b[38;5;28mself\u001b[39m,\n\u001b[0;32m   4791\u001b[0m     func: AggFuncType,\n\u001b[1;32m   (...)\u001b[0m\n\u001b[0;32m   4796\u001b[0m     \u001b[38;5;241m*\u001b[39m\u001b[38;5;241m*\u001b[39mkwargs,\n\u001b[0;32m   4797\u001b[0m ) \u001b[38;5;241m-\u001b[39m\u001b[38;5;241m>\u001b[39m DataFrame \u001b[38;5;241m|\u001b[39m Series:\n\u001b[0;32m   4798\u001b[0m \u001b[38;5;250m    \u001b[39m\u001b[38;5;124;03m\"\"\"\u001b[39;00m\n\u001b[0;32m   4799\u001b[0m \u001b[38;5;124;03m    Invoke function on values of Series.\u001b[39;00m\n\u001b[0;32m   4800\u001b[0m \n\u001b[1;32m   (...)\u001b[0m\n\u001b[0;32m   4915\u001b[0m \u001b[38;5;124;03m    dtype: float64\u001b[39;00m\n\u001b[0;32m   4916\u001b[0m \u001b[38;5;124;03m    \"\"\"\u001b[39;00m\n\u001b[0;32m   4917\u001b[0m     \u001b[38;5;28;01mreturn\u001b[39;00m \u001b[43mSeriesApply\u001b[49m\u001b[43m(\u001b[49m\n\u001b[0;32m   4918\u001b[0m \u001b[43m        \u001b[49m\u001b[38;5;28;43mself\u001b[39;49m\u001b[43m,\u001b[49m\n\u001b[0;32m   4919\u001b[0m \u001b[43m        \u001b[49m\u001b[43mfunc\u001b[49m\u001b[43m,\u001b[49m\n\u001b[0;32m   4920\u001b[0m \u001b[43m        \u001b[49m\u001b[43mconvert_dtype\u001b[49m\u001b[38;5;241;43m=\u001b[39;49m\u001b[43mconvert_dtype\u001b[49m\u001b[43m,\u001b[49m\n\u001b[0;32m   4921\u001b[0m \u001b[43m        \u001b[49m\u001b[43mby_row\u001b[49m\u001b[38;5;241;43m=\u001b[39;49m\u001b[43mby_row\u001b[49m\u001b[43m,\u001b[49m\n\u001b[0;32m   4922\u001b[0m \u001b[43m        \u001b[49m\u001b[43margs\u001b[49m\u001b[38;5;241;43m=\u001b[39;49m\u001b[43margs\u001b[49m\u001b[43m,\u001b[49m\n\u001b[0;32m   4923\u001b[0m \u001b[43m        \u001b[49m\u001b[43mkwargs\u001b[49m\u001b[38;5;241;43m=\u001b[39;49m\u001b[43mkwargs\u001b[49m\u001b[43m,\u001b[49m\n\u001b[1;32m-> 4924\u001b[0m \u001b[43m    \u001b[49m\u001b[43m)\u001b[49m\u001b[38;5;241;43m.\u001b[39;49m\u001b[43mapply\u001b[49m\u001b[43m(\u001b[49m\u001b[43m)\u001b[49m\n",
      "File \u001b[1;32mc:\\Users\\raider\\AppData\\Local\\Programs\\Python\\Python313\\Lib\\site-packages\\pandas\\core\\apply.py:1427\u001b[0m, in \u001b[0;36mSeriesApply.apply\u001b[1;34m(self)\u001b[0m\n\u001b[0;32m   1424\u001b[0m     \u001b[38;5;28;01mreturn\u001b[39;00m \u001b[38;5;28mself\u001b[39m\u001b[38;5;241m.\u001b[39mapply_compat()\n\u001b[0;32m   1426\u001b[0m \u001b[38;5;66;03m# self.func is Callable\u001b[39;00m\n\u001b[1;32m-> 1427\u001b[0m \u001b[38;5;28;01mreturn\u001b[39;00m \u001b[38;5;28;43mself\u001b[39;49m\u001b[38;5;241;43m.\u001b[39;49m\u001b[43mapply_standard\u001b[49m\u001b[43m(\u001b[49m\u001b[43m)\u001b[49m\n",
      "File \u001b[1;32mc:\\Users\\raider\\AppData\\Local\\Programs\\Python\\Python313\\Lib\\site-packages\\pandas\\core\\apply.py:1507\u001b[0m, in \u001b[0;36mSeriesApply.apply_standard\u001b[1;34m(self)\u001b[0m\n\u001b[0;32m   1501\u001b[0m \u001b[38;5;66;03m# row-wise access\u001b[39;00m\n\u001b[0;32m   1502\u001b[0m \u001b[38;5;66;03m# apply doesn't have a `na_action` keyword and for backward compat reasons\u001b[39;00m\n\u001b[0;32m   1503\u001b[0m \u001b[38;5;66;03m# we need to give `na_action=\"ignore\"` for categorical data.\u001b[39;00m\n\u001b[0;32m   1504\u001b[0m \u001b[38;5;66;03m# TODO: remove the `na_action=\"ignore\"` when that default has been changed in\u001b[39;00m\n\u001b[0;32m   1505\u001b[0m \u001b[38;5;66;03m#  Categorical (GH51645).\u001b[39;00m\n\u001b[0;32m   1506\u001b[0m action \u001b[38;5;241m=\u001b[39m \u001b[38;5;124m\"\u001b[39m\u001b[38;5;124mignore\u001b[39m\u001b[38;5;124m\"\u001b[39m \u001b[38;5;28;01mif\u001b[39;00m \u001b[38;5;28misinstance\u001b[39m(obj\u001b[38;5;241m.\u001b[39mdtype, CategoricalDtype) \u001b[38;5;28;01melse\u001b[39;00m \u001b[38;5;28;01mNone\u001b[39;00m\n\u001b[1;32m-> 1507\u001b[0m mapped \u001b[38;5;241m=\u001b[39m \u001b[43mobj\u001b[49m\u001b[38;5;241;43m.\u001b[39;49m\u001b[43m_map_values\u001b[49m\u001b[43m(\u001b[49m\n\u001b[0;32m   1508\u001b[0m \u001b[43m    \u001b[49m\u001b[43mmapper\u001b[49m\u001b[38;5;241;43m=\u001b[39;49m\u001b[43mcurried\u001b[49m\u001b[43m,\u001b[49m\u001b[43m \u001b[49m\u001b[43mna_action\u001b[49m\u001b[38;5;241;43m=\u001b[39;49m\u001b[43maction\u001b[49m\u001b[43m,\u001b[49m\u001b[43m \u001b[49m\u001b[43mconvert\u001b[49m\u001b[38;5;241;43m=\u001b[39;49m\u001b[38;5;28;43mself\u001b[39;49m\u001b[38;5;241;43m.\u001b[39;49m\u001b[43mconvert_dtype\u001b[49m\n\u001b[0;32m   1509\u001b[0m \u001b[43m\u001b[49m\u001b[43m)\u001b[49m\n\u001b[0;32m   1511\u001b[0m \u001b[38;5;28;01mif\u001b[39;00m \u001b[38;5;28mlen\u001b[39m(mapped) \u001b[38;5;129;01mand\u001b[39;00m \u001b[38;5;28misinstance\u001b[39m(mapped[\u001b[38;5;241m0\u001b[39m], ABCSeries):\n\u001b[0;32m   1512\u001b[0m     \u001b[38;5;66;03m# GH#43986 Need to do list(mapped) in order to get treated as nested\u001b[39;00m\n\u001b[0;32m   1513\u001b[0m     \u001b[38;5;66;03m#  See also GH#25959 regarding EA support\u001b[39;00m\n\u001b[0;32m   1514\u001b[0m     \u001b[38;5;28;01mreturn\u001b[39;00m obj\u001b[38;5;241m.\u001b[39m_constructor_expanddim(\u001b[38;5;28mlist\u001b[39m(mapped), index\u001b[38;5;241m=\u001b[39mobj\u001b[38;5;241m.\u001b[39mindex)\n",
      "File \u001b[1;32mc:\\Users\\raider\\AppData\\Local\\Programs\\Python\\Python313\\Lib\\site-packages\\pandas\\core\\base.py:921\u001b[0m, in \u001b[0;36mIndexOpsMixin._map_values\u001b[1;34m(self, mapper, na_action, convert)\u001b[0m\n\u001b[0;32m    918\u001b[0m \u001b[38;5;28;01mif\u001b[39;00m \u001b[38;5;28misinstance\u001b[39m(arr, ExtensionArray):\n\u001b[0;32m    919\u001b[0m     \u001b[38;5;28;01mreturn\u001b[39;00m arr\u001b[38;5;241m.\u001b[39mmap(mapper, na_action\u001b[38;5;241m=\u001b[39mna_action)\n\u001b[1;32m--> 921\u001b[0m \u001b[38;5;28;01mreturn\u001b[39;00m \u001b[43malgorithms\u001b[49m\u001b[38;5;241;43m.\u001b[39;49m\u001b[43mmap_array\u001b[49m\u001b[43m(\u001b[49m\u001b[43marr\u001b[49m\u001b[43m,\u001b[49m\u001b[43m \u001b[49m\u001b[43mmapper\u001b[49m\u001b[43m,\u001b[49m\u001b[43m \u001b[49m\u001b[43mna_action\u001b[49m\u001b[38;5;241;43m=\u001b[39;49m\u001b[43mna_action\u001b[49m\u001b[43m,\u001b[49m\u001b[43m \u001b[49m\u001b[43mconvert\u001b[49m\u001b[38;5;241;43m=\u001b[39;49m\u001b[43mconvert\u001b[49m\u001b[43m)\u001b[49m\n",
      "File \u001b[1;32mc:\\Users\\raider\\AppData\\Local\\Programs\\Python\\Python313\\Lib\\site-packages\\pandas\\core\\algorithms.py:1743\u001b[0m, in \u001b[0;36mmap_array\u001b[1;34m(arr, mapper, na_action, convert)\u001b[0m\n\u001b[0;32m   1741\u001b[0m values \u001b[38;5;241m=\u001b[39m arr\u001b[38;5;241m.\u001b[39mastype(\u001b[38;5;28mobject\u001b[39m, copy\u001b[38;5;241m=\u001b[39m\u001b[38;5;28;01mFalse\u001b[39;00m)\n\u001b[0;32m   1742\u001b[0m \u001b[38;5;28;01mif\u001b[39;00m na_action \u001b[38;5;129;01mis\u001b[39;00m \u001b[38;5;28;01mNone\u001b[39;00m:\n\u001b[1;32m-> 1743\u001b[0m     \u001b[38;5;28;01mreturn\u001b[39;00m \u001b[43mlib\u001b[49m\u001b[38;5;241;43m.\u001b[39;49m\u001b[43mmap_infer\u001b[49m\u001b[43m(\u001b[49m\u001b[43mvalues\u001b[49m\u001b[43m,\u001b[49m\u001b[43m \u001b[49m\u001b[43mmapper\u001b[49m\u001b[43m,\u001b[49m\u001b[43m \u001b[49m\u001b[43mconvert\u001b[49m\u001b[38;5;241;43m=\u001b[39;49m\u001b[43mconvert\u001b[49m\u001b[43m)\u001b[49m\n\u001b[0;32m   1744\u001b[0m \u001b[38;5;28;01melse\u001b[39;00m:\n\u001b[0;32m   1745\u001b[0m     \u001b[38;5;28;01mreturn\u001b[39;00m lib\u001b[38;5;241m.\u001b[39mmap_infer_mask(\n\u001b[0;32m   1746\u001b[0m         values, mapper, mask\u001b[38;5;241m=\u001b[39misna(values)\u001b[38;5;241m.\u001b[39mview(np\u001b[38;5;241m.\u001b[39muint8), convert\u001b[38;5;241m=\u001b[39mconvert\n\u001b[0;32m   1747\u001b[0m     )\n",
      "File \u001b[1;32mlib.pyx:2972\u001b[0m, in \u001b[0;36mpandas._libs.lib.map_infer\u001b[1;34m()\u001b[0m\n",
      "Cell \u001b[1;32mIn[31], line 3\u001b[0m, in \u001b[0;36mextract_text_features\u001b[1;34m(text)\u001b[0m\n\u001b[0;32m      2\u001b[0m \u001b[38;5;28;01mdef\u001b[39;00m\u001b[38;5;250m \u001b[39m\u001b[38;5;21mextract_text_features\u001b[39m(text):\n\u001b[1;32m----> 3\u001b[0m     \u001b[38;5;28;01mif\u001b[39;00m \u001b[43mpd\u001b[49m\u001b[38;5;241;43m.\u001b[39;49m\u001b[43minsull\u001b[49m(text):\n\u001b[0;32m      4\u001b[0m         \u001b[38;5;28;01mreturn\u001b[39;00m pd\u001b[38;5;241m.\u001b[39mSeries([\u001b[38;5;241m0\u001b[39m, \u001b[38;5;241m0\u001b[39m, \u001b[38;5;241m0\u001b[39m, \u001b[38;5;241m0\u001b[39m, \u001b[38;5;241m0\u001b[39m, \u001b[38;5;241m0\u001b[39m, \u001b[38;5;241m0\u001b[39m]) \u001b[38;5;66;03m# since is 7D feature vector.\u001b[39;00m\n\u001b[0;32m      6\u001b[0m     num_sentences \u001b[38;5;241m=\u001b[39m \u001b[38;5;28mmax\u001b[39m(sentence_count(text), \u001b[38;5;241m1\u001b[39m) \u001b[38;5;66;03m#avoid div by 0\u001b[39;00m\n",
      "\u001b[1;31mAttributeError\u001b[0m: module 'pandas' has no attribute 'insull'"
     ]
    }
   ],
   "source": [
    "#apply to dataset\n",
    "feature_names = ['avg_sentence_length', 'avg_word_length', 'punctuation_count',\n",
    "                 'exclamation_count', 'question_count', 'uppercase_ration', 'readability_score']\n",
    "\n",
    "combined_dataset[feature_names] = combined_dataset['Body'].apply(extract_text_features)\n",
    "combined_dataset.head()\n"
   ]
  },
  {
   "cell_type": "code",
   "execution_count": null,
   "metadata": {},
   "outputs": [],
   "source": []
  }
 ],
 "metadata": {
  "kernelspec": {
   "display_name": "Python 3",
   "language": "python",
   "name": "python3"
  },
  "language_info": {
   "codemirror_mode": {
    "name": "ipython",
    "version": 3
   },
   "file_extension": ".py",
   "mimetype": "text/x-python",
   "name": "python",
   "nbconvert_exporter": "python",
   "pygments_lexer": "ipython3",
   "version": "3.13.1"
  }
 },
 "nbformat": 4,
 "nbformat_minor": 2
}
