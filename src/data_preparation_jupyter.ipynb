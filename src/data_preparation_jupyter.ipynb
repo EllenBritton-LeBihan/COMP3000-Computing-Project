{
 "cells": [
  {
   "cell_type": "markdown",
   "id": "ff83fcfb-db34-4031-abd7-0365c17ffe59",
   "metadata": {},
   "source": [
    "<h1>Dataset preparation and model training</h1>"
   ]
  },
  {
   "cell_type": "code",
   "execution_count": 1,
   "id": "fb7eeb01-461c-41b8-8da4-764a18f15c25",
   "metadata": {},
   "outputs": [],
   "source": [
    "import pandas as pd\n",
    "import numpy as np\n",
    "import os\n",
    "import re\n",
    "from sklearn.model_selection import train_test_split, cross_val_score, GridSearchCV\n",
    "from sklearn.feature_extraction.text import TfidfVectorizer\n",
    "from sklearn.ensemble import RandomForestClassifier\n",
    "from sklearn.tree import DecisionTreeClassifier\n",
    "from sklearn.neighbors import KNeighborsClassifier\n",
    "from sklearn.metrics import classification_report, confusion_matrix, accuracy_score\n",
    "from sklearn.preprocessing import StandardScaler\n",
    "import nltk\n",
    "from nltk.corpus import stopwords\n",
    "from nltk.stem import WordNetLemmatizer\n",
    "from nltk.tokenize import word_tokenize"
   ]
  },
  {
   "cell_type": "code",
   "execution_count": 2,
   "id": "7c1e4bbe-00f7-49ff-9a8f-a06382bb5f50",
   "metadata": {},
   "outputs": [],
   "source": [
    "#load Enron dataset\n",
    "data = pd.read_csv('data/emails.csv')"
   ]
  },
  {
   "cell_type": "code",
   "execution_count": 3,
   "id": "01e14e6d-87fe-44f5-9203-54dd97ceff9a",
   "metadata": {},
   "outputs": [
    {
     "name": "stdout",
     "output_type": "stream",
     "text": [
      "Index(['file', 'message'], dtype='object')\n"
     ]
    }
   ],
   "source": [
    "print(data.columns)"
   ]
  },
  {
   "cell_type": "code",
   "execution_count": 4,
   "id": "428e6e5e-3ff9-4065-995b-0d09dc740727",
   "metadata": {},
   "outputs": [],
   "source": [
    "data.columns = data.columns.str.strip()"
   ]
  },
  {
   "cell_type": "code",
   "execution_count": 5,
   "id": "15f7e9f1-2406-494f-b4e1-1a3c333fdb04",
   "metadata": {},
   "outputs": [
    {
     "name": "stdout",
     "output_type": "stream",
     "text": [
      "Index(['file', 'message'], dtype='object')\n"
     ]
    }
   ],
   "source": [
    "print(data.columns)"
   ]
  },
  {
   "cell_type": "code",
   "execution_count": 6,
   "id": "0c15c845-832f-427b-8b40-fc0d89701d50",
   "metadata": {},
   "outputs": [
    {
     "name": "stdout",
     "output_type": "stream",
     "text": [
      "                       file                                            message\n",
      "0     allen-p/_sent_mail/1.  Message-ID: <18782981.1075855378110.JavaMail.e...\n",
      "1    allen-p/_sent_mail/10.  Message-ID: <15464986.1075855378456.JavaMail.e...\n",
      "2   allen-p/_sent_mail/100.  Message-ID: <24216240.1075855687451.JavaMail.e...\n",
      "3  allen-p/_sent_mail/1000.  Message-ID: <13505866.1075863688222.JavaMail.e...\n",
      "4  allen-p/_sent_mail/1001.  Message-ID: <30922949.1075863688243.JavaMail.e...\n"
     ]
    }
   ],
   "source": [
    "print(data.head())"
   ]
  },
  {
   "cell_type": "markdown",
   "id": "9e9f6e5f-cc0c-4571-a028-d0675957c8ca",
   "metadata": {},
   "source": [
    "<h2>clean email text</h2>"
   ]
  },
  {
   "cell_type": "code",
   "execution_count": 7,
   "id": "aee5a587-36ff-4a3c-8011-f5f6d59d70fc",
   "metadata": {},
   "outputs": [],
   "source": [
    "def clean_text(text):\n",
    "    text = text.lower() \n",
    "    text = re.sub(r'<[^>]+>', '', text) # remove all html tags\n",
    "    text = re.sub(r'http\\S+', '', text) # remove urls\n",
    "    text = re.sub(r'[^a-z\\s]', '', text) #remove non-alphabetic charecters.\n",
    "    return text"
   ]
  },
  {
   "cell_type": "code",
   "execution_count": 8,
   "id": "d65e3c46-ab47-45cc-b7d1-37fc22cec55f",
   "metadata": {},
   "outputs": [],
   "source": [
    "data['cleaned_message'] = data['message'].apply(clean_text)"
   ]
  },
  {
   "cell_type": "code",
   "execution_count": 9,
   "id": "0a60c6f1-2e89-4854-84dd-22d8d20ac97d",
   "metadata": {},
   "outputs": [
    {
     "name": "stderr",
     "output_type": "stream",
     "text": [
      "[nltk_data] Downloading package punkt to\n",
      "[nltk_data]     C:\\Users\\raider\\AppData\\Roaming\\nltk_data...\n",
      "[nltk_data]   Package punkt is already up-to-date!\n",
      "[nltk_data] Downloading package wordnet to\n",
      "[nltk_data]     C:\\Users\\raider\\AppData\\Roaming\\nltk_data...\n",
      "[nltk_data]   Package wordnet is already up-to-date!\n",
      "[nltk_data] Downloading package omw-1.4 to\n",
      "[nltk_data]     C:\\Users\\raider\\AppData\\Roaming\\nltk_data...\n",
      "[nltk_data]   Package omw-1.4 is already up-to-date!\n",
      "[nltk_data] Downloading package punkt_tab to\n",
      "[nltk_data]     C:\\Users\\raider\\AppData\\Roaming\\nltk_data...\n",
      "[nltk_data]   Package punkt_tab is already up-to-date!\n"
     ]
    },
    {
     "data": {
      "text/plain": [
       "True"
      ]
     },
     "execution_count": 9,
     "metadata": {},
     "output_type": "execute_result"
    }
   ],
   "source": [
    "nltk.download('punkt') \n",
    "nltk.download('wordnet')\n",
    "nltk.download('omw-1.4')\n",
    "nltk.download('punkt_tab')"
   ]
  },
  {
   "cell_type": "code",
   "execution_count": 10,
   "id": "32bfdc81-1984-48e6-bfe9-57e3aa1b528f",
   "metadata": {},
   "outputs": [],
   "source": [
    "#tokenisation, stopword removal lemmatiraztion\n",
    "def preprocess_text(text):\n",
    "    words = nltk.word_tokenize(text)\n",
    "    stop_words = set(stopwords.words('english'))\n",
    "    lemmatizer = WordNetLemmatizer()\n",
    "    filtered_words = [lemmatizer.lemmatize(word) for word in words if word not in stop_words and len(word) > 2]\n",
    "    return ' '.join(filtered_words)"
   ]
  },
  {
   "cell_type": "code",
   "execution_count": 11,
   "id": "1cbef5e3-939f-4eed-ab86-1f9d3f1592e6",
   "metadata": {},
   "outputs": [],
   "source": [
    "# applying preprocessing to cleaned emails\n",
    "data['processed_message'] = data['cleaned_message'].apply(preprocess_text)"
   ]
  },
  {
   "cell_type": "code",
   "execution_count": 12,
   "id": "09619e56",
   "metadata": {},
   "outputs": [
    {
     "name": "stdout",
     "output_type": "stream",
     "text": [
      "                                             message  \\\n",
      "0  Message-ID: <18782981.1075855378110.JavaMail.e...   \n",
      "1  Message-ID: <15464986.1075855378456.JavaMail.e...   \n",
      "2  Message-ID: <24216240.1075855687451.JavaMail.e...   \n",
      "3  Message-ID: <13505866.1075863688222.JavaMail.e...   \n",
      "4  Message-ID: <30922949.1075863688243.JavaMail.e...   \n",
      "\n",
      "                                   processed_message  \n",
      "0  messageid date mon may pdt phillipallenenronco...  \n",
      "1  messageid date fri may pdt phillipallenenronco...  \n",
      "2  messageid date wed oct pdt phillipallenenronco...  \n",
      "3  messageid date mon oct pdt phillipallenenronco...  \n",
      "4  messageid date thu aug pdt phillipallenenronco...  \n"
     ]
    }
   ],
   "source": [
    "print(data[['message', 'processed_message']].head())"
   ]
  },
  {
   "cell_type": "markdown",
   "id": "cfc4e6ed",
   "metadata": {},
   "source": [
    "<h2>Feature Extraction</h2>"
   ]
  },
  {
   "cell_type": "code",
   "execution_count": 13,
   "id": "c71110cb",
   "metadata": {},
   "outputs": [
    {
     "name": "stdout",
     "output_type": "stream",
     "text": [
      "Index(['file', 'message', 'cleaned_message', 'processed_message'], dtype='object')\n"
     ]
    }
   ],
   "source": [
    "print(data.columns)"
   ]
  },
  {
   "cell_type": "code",
   "execution_count": 14,
   "id": "190726f0",
   "metadata": {},
   "outputs": [
    {
     "name": "stdout",
     "output_type": "stream",
     "text": [
      "label\n",
      "0    353966\n",
      "1    163435\n",
      "Name: count, dtype: int64\n"
     ]
    }
   ],
   "source": [
    "#need to differentiate potential phshing and non-phishing emails (needs to be updated later)\n",
    "phishing_keywords = ['urgent', 'password', 'login', 'account', 'verify', 'click', 'win', 'prize']\n",
    "\n",
    "#label message\n",
    "def label_message(text):\n",
    "    if any(keyword in text.lower() for keyword in phishing_keywords):\n",
    "        return 1  #phishing\n",
    "    return 0  #non-phishing\n",
    "\n",
    "data['label'] = data['processed_message'].apply(label_message)\n",
    "\n",
    "# check label distribution\n",
    "print(data['label'].value_counts())"
   ]
  },
  {
   "cell_type": "code",
   "execution_count": 15,
   "id": "b6c08cf9",
   "metadata": {},
   "outputs": [],
   "source": [
    "#balance the dataset: ( undersampling)\n",
    "phishing = data[data['label'] == 1]\n",
    "non_phishing = data[data['label'] == 0].sample(len(phishing), random_state=42)\n",
    "\n",
    "balanced_data = pd.concat([phishing, non_phishing])"
   ]
  },
  {
   "cell_type": "code",
   "execution_count": 16,
   "id": "e63e18bf",
   "metadata": {},
   "outputs": [],
   "source": [
    "#oversampling\n",
    "from sklearn.utils import resample\n",
    "phshing = data[data['label'] == 1]\n",
    "non_phishing = data[data['label'] == 0]\n",
    "\n",
    "oversampled_phishing = resample(phishing, replace=True, n_samples=len(non_phishing), random_state=42)\n",
    "balanced_data = pd.concat([oversampled_phishing, non_phishing])"
   ]
  },
  {
   "cell_type": "code",
   "execution_count": 17,
   "id": "b307366d-2644-497f-a945-50a46ab9df2d",
   "metadata": {},
   "outputs": [],
   "source": [
    "#Feature extraction using tf-idf vectorizer\n",
    "vectorizer = TfidfVectorizer(max_features=1000)\n",
    "X = vectorizer.fit_transform(data['processed_message'])\n",
    "\n",
    "#extracting target var \n",
    "y = data['label']\n",
    "\n",
    "#training and testing set split\n",
    "X_train, X_test, y_train, y_test = train_test_split(X, y, test_size=0.1, random_state=42)\n"
   ]
  },
  {
   "cell_type": "markdown",
   "id": "d53544f3",
   "metadata": {},
   "source": [
    "<h2> Evaluation and training the models </h2>"
   ]
  },
  {
   "cell_type": "code",
   "execution_count": 18,
   "id": "2cba585c-3bb0-4dd7-a5af-23ad68b30529",
   "metadata": {},
   "outputs": [
    {
     "name": "stdout",
     "output_type": "stream",
     "text": [
      "Decision Tree Performance:\n",
      "Accuracy: 0.9666995226222918\n",
      "Confusion Matrix:\n",
      "               precision    recall  f1-score   support\n",
      "\n",
      "           0       0.97      0.98      0.98     35407\n",
      "           1       0.95      0.95      0.95     16334\n",
      "\n",
      "    accuracy                           0.97     51741\n",
      "   macro avg       0.96      0.96      0.96     51741\n",
      "weighted avg       0.97      0.97      0.97     51741\n",
      "\n",
      "Classification Report:\n",
      "               precision    recall  f1-score   support\n",
      "\n",
      "           0       0.97      0.98      0.98     35407\n",
      "           1       0.95      0.95      0.95     16334\n",
      "\n",
      "    accuracy                           0.97     51741\n",
      "   macro avg       0.96      0.96      0.96     51741\n",
      "weighted avg       0.97      0.97      0.97     51741\n",
      "\n"
     ]
    }
   ],
   "source": [
    "#train DT classifier\n",
    "dt_model = DecisionTreeClassifier(random_state=42)\n",
    "dt_model.fit(X_train, y_train)\n",
    "\n",
    "#predictions\n",
    "dt_predictions = dt_model.predict(X_test)\n",
    "\n",
    "#evaluate DT model\n",
    "print(\"Decision Tree Performance:\")\n",
    "print(\"Accuracy:\", accuracy_score(y_test, dt_predictions))\n",
    "print(\"Confusion Matrix:\\n\", classification_report(y_test, dt_predictions))\n",
    "print(\"Classification Report:\\n\", classification_report(y_test, dt_predictions))\n"
   ]
  },
  {
   "cell_type": "code",
   "execution_count": 19,
   "id": "48e77506-c066-4d66-8bfe-0b56fb0d5164",
   "metadata": {},
   "outputs": [
    {
     "name": "stdout",
     "output_type": "stream",
     "text": [
      "Random Forest Performance:\n",
      "Accuracy: 0.9747588952668097\n",
      "Confusion Matrix\n",
      " [[35288   119]\n",
      " [ 1187 15147]]\n",
      "Classification Report:\n",
      "               precision    recall  f1-score   support\n",
      "\n",
      "           0       0.97      1.00      0.98     35407\n",
      "           1       0.99      0.93      0.96     16334\n",
      "\n",
      "    accuracy                           0.97     51741\n",
      "   macro avg       0.98      0.96      0.97     51741\n",
      "weighted avg       0.98      0.97      0.97     51741\n",
      "\n"
     ]
    }
   ],
   "source": [
    "#train Random Forest classifier.\n",
    "rf_model = RandomForestClassifier(random_state=42)\n",
    "rf_model.fit(X_train, y_train)\n",
    "\n",
    "#predictions \n",
    "rf_predictions = rf_model.predict(X_test)\n",
    "\n",
    "#evaluate RF \n",
    "print(\"Random Forest Performance:\")\n",
    "print(\"Accuracy:\", accuracy_score(y_test, rf_predictions))\n",
    "print(\"Confusion Matrix\\n\", confusion_matrix(y_test, rf_predictions))\n",
    "print(\"Classification Report:\\n\", classification_report(y_test, rf_predictions))"
   ]
  },
  {
   "cell_type": "code",
   "execution_count": 20,
   "id": "37e94597",
   "metadata": {},
   "outputs": [
    {
     "name": "stdout",
     "output_type": "stream",
     "text": [
      "K-Nearest Neighbors Performance:\n",
      "Accuracy: 0.9203726251908545\n",
      "Confusion Matrix:\n",
      " [[33786  1621]\n",
      " [ 2499 13835]]\n",
      "Classification Report:\n",
      "               precision    recall  f1-score   support\n",
      "\n",
      "           0       0.93      0.95      0.94     35407\n",
      "           1       0.90      0.85      0.87     16334\n",
      "\n",
      "    accuracy                           0.92     51741\n",
      "   macro avg       0.91      0.90      0.91     51741\n",
      "weighted avg       0.92      0.92      0.92     51741\n",
      "\n"
     ]
    }
   ],
   "source": [
    "from sklearn.neighbors import KNeighborsClassifier\n",
    "\n",
    "# init with val 5 \n",
    "knn_model = KNeighborsClassifier(n_neighbors=5)\n",
    "\n",
    "#train knn model\n",
    "knn_model.fit(X_train, y_train)\n",
    "\n",
    "# predict\n",
    "knn_predictions = knn_model.predict(X_test)\n",
    "\n",
    "#evaluate\n",
    "print(\"K-Nearest Neighbors Performance:\")\n",
    "print(\"Accuracy:\", accuracy_score(y_test, knn_predictions))\n",
    "print(\"Confusion Matrix:\\n\", confusion_matrix(y_test, knn_predictions))\n",
    "print(\"Classification Report:\\n\", classification_report(y_test, knn_predictions))"
   ]
  },
  {
   "cell_type": "code",
   "execution_count": 28,
   "id": "6da0308e",
   "metadata": {},
   "outputs": [
    {
     "name": "stdout",
     "output_type": "stream",
     "text": [
      "           Model  Accuracy\n",
      "0  Decision Tree  0.966700\n",
      "1  Random Forest  0.974759\n",
      "2            KNN  0.920373\n"
     ]
    },
    {
     "data": {
      "image/png": "[encoded data removed]",
      "text/plain": [
       "<Figure size 800x500 with 1 Axes>"
      ]
     },
     "metadata": {},
     "output_type": "display_data"
    }
   ],
   "source": [
    "#metrics\n",
    "results = {\n",
    "    \"Model\": [\"Decision Tree\", \"Random Forest\", \"KNN\"],\n",
    "    \"Accuracy\": [\n",
    "        accuracy_score(y_test, dt_predictions),\n",
    "        accuracy_score(y_test, rf_predictions),\n",
    "        accuracy_score(y_test, knn_predictions)\n",
    "    ]\n",
    "}\n",
    "\n",
    "#dataframe to copmrae\n",
    "results_df = pd.DataFrame(results)\n",
    "print(results_df)\n",
    "\n",
    "\n",
    "import matplotlib.pyplot as plt\n",
    "\n",
    "plt.figure(figsize=(8, 5))\n",
    "plt.bar(results_df['Model'], results_df['Accuracy'], color=['blue', 'green', 'orange', 'purple'])\n",
    "plt.xlabel(\"Model\")\n",
    "plt.ylabel(\"Accuracy\")\n",
    "plt.title(\"Comparison of Model Accuracy\")\n",
    "plt.ylim(0, 1)\n",
    "plt.show()"
   ]
  },
  {
   "cell_type": "code",
   "execution_count": 21,
   "id": "c7070a44-d3a3-463a-b472-7d189961ba75",
   "metadata": {},
   "outputs": [],
   "source": [
    "import joblib"
   ]
  },
  {
   "cell_type": "code",
   "execution_count": 22,
   "id": "d0ed6b21-a613-4ba0-8ceb-7d4a0d128a52",
   "metadata": {},
   "outputs": [
    {
     "name": "stdout",
     "output_type": "stream",
     "text": [
      "All models saved\n"
     ]
    }
   ],
   "source": [
    "#save DT model\n",
    "joblib.dump(dt_model, 'decision_tree_model.pkl')\n",
    "\n",
    "# save RF model\n",
    "joblib.dump(rf_model, 'random_forest_model.pkl')\n",
    "\n",
    "#save KNN model\n",
    "joblib.dump(knn_model, 'knn_model.pkl')\n",
    "\n",
    "print(\"All models saved\")"
   ]
  },
  {
   "cell_type": "code",
   "execution_count": 25,
   "id": "33a38b7d-68e0-46e3-be73-ae84d1ac46f8",
   "metadata": {},
   "outputs": [
    {
     "name": "stdout",
     "output_type": "stream",
     "text": [
      "All models loaded\n"
     ]
    }
   ],
   "source": [
    "#load models\n",
    "loaded_dt_model = joblib.load('decision_tree_model.pkl')\n",
    "loaded_rf_model = joblib.load('random_forest_model.pkl')\n",
    "loaded_knn_model = joblib.load('knn_model.pkl')\n",
    "\n",
    "print(\"All models loaded\")"
   ]
  },
  {
   "cell_type": "code",
   "execution_count": null,
   "id": "e7ad527b-f29f-4571-b6d2-f48d953b2f77",
   "metadata": {},
   "outputs": [],
   "source": [
    "#predict with loaded models\n",
    "dt_loaded_predictions = loaded_dt_model.predict(X_test)\n",
    "rf_loaded_predictions = loaded_rf_model.predict(X_test)\n",
    "knn_loaded_predictions = loaded_knn_model.predict(X_test)\n",
    "\n",
    "#check accuracy to confirm models loaded correctly\n",
    "print(\"Loaded Decision Tree Accuracy:\", accuracy_score(y_test, dt_loaded_predictions))\n",
    "print(\"Loaded Random Forest Accuracy:\", accuracy_score(y_test, rf_loaded_predictions))\n",
    "print(\"Loaded KNN Accuracy:\", accuracy_score(y_test, knn_loaded_predictions))"
   ]
  },
  {
   "cell_type": "code",
   "execution_count": 29,
   "id": "8b176348-12c1-4ee5-8841-4d947014161e",
   "metadata": {},
   "outputs": [
    {
     "data": {
      "text/plain": [
       "['tfidf_vectorizer.pkl']"
      ]
     },
     "execution_count": 29,
     "metadata": {},
     "output_type": "execute_result"
    }
   ],
   "source": [
    "joblib.dump(vectorizer, 'tfidf_vectorizer.pkl')"
   ]
  }
 ],
 "metadata": {
  "kernelspec": {
   "display_name": "Python 3",
   "language": "python",
   "name": "python3"
  },
  "language_info": {
   "codemirror_mode": {
    "name": "ipython",
    "version": 3
   },
   "file_extension": ".py",
   "mimetype": "text/x-python",
   "name": "python",
   "nbconvert_exporter": "python",
   "pygments_lexer": "ipython3",
   "version": "3.13.1"
  }
 },
 "nbformat": 4,
 "nbformat_minor": 5
}
