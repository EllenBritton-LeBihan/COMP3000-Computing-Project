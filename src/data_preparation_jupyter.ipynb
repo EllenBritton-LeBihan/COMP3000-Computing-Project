{
 "cells": [
  {
   "cell_type": "markdown",
   "id": "ff83fcfb-db34-4031-abd7-0365c17ffe59",
   "metadata": {},
   "source": [
    "<h1>Dataset preparation for model training</h1>\n",
    "<h3>Steps</h3>\n",
    "<h4>Load and clean emails.csv</h4>\n",
    "    <em>Load</em>\n",
    "    <em>Inspect</em>\n",
    "    <em>Standardise</em>\n",
    "<h4>Extract trusted chains of email</h4>\n",
    "    <em>Sender receiver pairs</em>\n",
    "    <em>Frequency of interactions</em>\n",
    "    <em>Email grouping into chains</em>\n",
    "<h4>Introduce phishing samples</h4>\n",
    "    <em>Spoofed email generation</em>\n",
    "    <em>Combining ligit and spoofed emails</em>\n",
    "<h4>Dataset inspection and validate</h4>\n",
    "    <em>Verify the combined and labelled dataset</em>\n",
    "    <em>Sample and review the chains to make sure spoofed emails were injected correctly</em>\n",
    "<h4>Feature engineering</h4>\n",
    "    <em>Extract header features</em>\n",
    "    <em>Extract content features</em>\n",
    "    <em>Extract behaviour features</em>\n",
    "<h4>Prepare for model training</h4>\n",
    "    <em>Preprocess</em>\n",
    "    <em>Train-Test split</em>"
   ]
  },
  {
   "cell_type": "code",
   "execution_count": 8,
   "id": "fb7eeb01-461c-41b8-8da4-764a18f15c25",
   "metadata": {},
   "outputs": [],
   "source": [
    "import pandas as pd\n",
    "import numpy as np\n",
    "import re\n",
    "from sklearn.preprocessing import StandardScaler"
   ]
  },
  {
   "cell_type": "markdown",
   "id": "e4376786-7c7d-44f4-9e43-66c961b7880f",
   "metadata": {
    "editable": true,
    "slideshow": {
     "slide_type": ""
    },
    "tags": []
   },
   "source": [
    "<h2>Parse Data</h2>"
   ]
  },
  {
   "cell_type": "code",
   "execution_count": 9,
   "id": "f348cff5-6f3d-4987-bef6-6864e81628de",
   "metadata": {},
   "outputs": [],
   "source": [
    "##Loading data\n",
    "emails_df = pd.read_csv('data/emails.csv')"
   ]
  },
  {
   "cell_type": "code",
   "execution_count": 10,
   "id": "2de6a358-d67d-4e30-b1cd-a2d1a24154f7",
   "metadata": {},
   "outputs": [],
   "source": [
    "#~~~PARSE MESSAGE~~~\n",
    "def parse_message(raw_message):\n",
    "    try:\n",
    "        fields = {\n",
    "            'Message-ID': re.search(r'Message-ID:\\s*(.*)', raw_message).group(1) if re.search(r'Message-ID:\\s*(.*)', raw_message) else None,\n",
    "            'Date': re.search(r'Date:\\s*(.*)', raw_message).group(1) if re.search(r'Date:\\s*(.*)', raw_message) else None,\n",
    "            'From': re.search(r'From:\\s*(.*)', raw_message).group(1) if re.search(r'From:\\s*(.*)', raw_message) else None,\n",
    "            'To': re.search(r'To:\\s*(.*)', raw_message).group(1) if re.search(r'To:\\s*(.*)', raw_message) else None,\n",
    "            'Subject': re.search(r'Subject:\\s*(.*)', raw_message).group(1) if re.search(r'Subject:\\s*(.*)', raw_message) else None,\n",
    "        }\n",
    "        body_match = re.split(r'\\n\\s*\\n', raw_message, maxsplit=1)\n",
    "        fields['Body'] = body_match[1] if len(body_match) > 1 else \"\"\n",
    "        return fields\n",
    "    except Exception as e:\n",
    "        print(f\"Error parsing message: {e}\")\n",
    "        return {}\n",
    "    "
   ]
  },
  {
   "cell_type": "code",
   "execution_count": 11,
   "id": "b5571070-a8c7-47c6-85b1-c0c9534dd211",
   "metadata": {},
   "outputs": [],
   "source": [
    "## apply parser to message column\n",
    "parsed_messages = emails_df['message'].apply(parse_message)"
   ]
  },
  {
   "cell_type": "code",
   "execution_count": 12,
   "id": "6fe31fc3-b3ee-4d73-a8f4-f845ed21b8f5",
   "metadata": {},
   "outputs": [],
   "source": [
    "#convert parsed data into dataframe\n",
    "parsed_df = pd.DataFrame(parsed_messages.tolist())"
   ]
  },
  {
   "cell_type": "code",
   "execution_count": 13,
   "id": "4c7c9140-43b3-4ed2-9965-dd9872aecc67",
   "metadata": {},
   "outputs": [],
   "source": [
    "#merge with original; file column\n",
    "emails_df = pd.concat([emails_df[['file']], parsed_df], axis=1)"
   ]
  },
  {
   "cell_type": "code",
   "execution_count": 14,
   "id": "6d2d6623-2f51-47e0-8ec4-60fbc337aab3",
   "metadata": {},
   "outputs": [],
   "source": [
    "#func to convert and clean dates\n",
    "def parse_date(date_string):\n",
    "    try:\n",
    "        return pd.to_datetime(date_string, errors='coerce')\n",
    "    except Exception:\n",
    "        return None"
   ]
  },
  {
   "cell_type": "code",
   "execution_count": 15,
   "id": "9545fe06-f702-41fd-a016-30734cc1bdc2",
   "metadata": {},
   "outputs": [],
   "source": [
    "#apply date parser\n",
    "emails_df['Date'] = emails_df['Date'].apply(parse_date)"
   ]
  },
  {
   "cell_type": "code",
   "execution_count": 16,
   "id": "a0074e2c-b5ad-4fc0-b88d-7a16714b857d",
   "metadata": {},
   "outputs": [],
   "source": [
    "#drop rows with invalid dates.\n",
    "emails_df = emails_df.dropna(subset=['Date'])"
   ]
  },
  {
   "cell_type": "code",
   "execution_count": 17,
   "id": "ec7c7245-e5d8-491a-b0f8-5760950bb3dc",
   "metadata": {},
   "outputs": [],
   "source": [
    "#metadata extraction\n",
    "words2split = [\n",
    "    'Message-ID: ', 'Date: ', 'From: ', 'To: ', 'Subject: ', 'Cc: ', \n",
    "    'Mime-Version: ', 'Content-Type: ', 'Content-Transfer-Encoding: ', \n",
    "    'Bcc: ', 'X-From: ', 'X-To: ', 'X-cc: ', 'X-bcc: ', \n",
    "    'X-Folder: ', 'X-Origin: ', 'X-FileName: '\n",
    "]"
   ]
  },
  {
   "cell_type": "code",
   "execution_count": 18,
   "id": "5a0c386e-5d59-49d9-85eb-0c21322d996c",
   "metadata": {},
   "outputs": [],
   "source": [
    "features_naming = [i[:-2] for i in words2split]  # Strip ': ' for column names\n",
    "split_condition = '|'.join(words2split)"
   ]
  },
  {
   "cell_type": "code",
   "execution_count": 19,
   "id": "3a497f38-cfe2-4af8-874b-3f3d22535eb1",
   "metadata": {},
   "outputs": [
    {
     "name": "stdout",
     "output_type": "stream",
     "text": [
      "                       file                                     Message-ID  \\\n",
      "0     allen-p/_sent_mail/1.  <18782981.1075855378110.JavaMail.evans@thyme>   \n",
      "1    allen-p/_sent_mail/10.  <15464986.1075855378456.JavaMail.evans@thyme>   \n",
      "2   allen-p/_sent_mail/100.  <24216240.1075855687451.JavaMail.evans@thyme>   \n",
      "3  allen-p/_sent_mail/1000.  <13505866.1075863688222.JavaMail.evans@thyme>   \n",
      "4  allen-p/_sent_mail/1001.  <30922949.1075863688243.JavaMail.evans@thyme>   \n",
      "\n",
      "                        Date                     From  \\\n",
      "0  2001-05-14 16:39:00-07:00  phillip.allen@enron.com   \n",
      "1  2001-05-04 13:51:00-07:00  phillip.allen@enron.com   \n",
      "2  2000-10-18 03:00:00-07:00  phillip.allen@enron.com   \n",
      "3  2000-10-23 06:13:00-07:00  phillip.allen@enron.com   \n",
      "4  2000-08-31 05:07:00-07:00  phillip.allen@enron.com   \n",
      "\n",
      "                        To            Subject  \\\n",
      "0     tim.belden@enron.com  Mime-Version: 1.0   \n",
      "1  john.lavorato@enron.com                Re:   \n",
      "2   leah.arsdall@enron.com           Re: test   \n",
      "3    randall.gay@enron.com  Mime-Version: 1.0   \n",
      "4     greg.piper@enron.com          Re: Hello   \n",
      "\n",
      "                                                Body  \n",
      "0                          Here is our forecast\\n\\n   \n",
      "1  Traveling to have a business meeting takes the...  \n",
      "2                     test successful.  way to go!!!  \n",
      "3  Randy,\\n\\n Can you send me a schedule of the s...  \n",
      "4                Let's shoot for Tuesday at 11:45.    \n"
     ]
    }
   ],
   "source": [
    "#func to extract meta fields\n",
    "def extract_metadata(pre_info, split_condition):\n",
    "    fields = re.split(split_condition, pre_info)\n",
    "    if len(fields) - 1 != len(features_naming):\n",
    "        print(f\"Warning: Metadata length mismatch in '{pre_info[:50]}...'\")  # Log first 50 characters for context\n",
    "    metadata = dict(zip(features_naming, fields[1:]))  # Skip first empty split\n",
    "    return metadata\n",
    "\n",
    "\n",
    "print(emails_df.head())\n",
    "emails_df.to_csv('cleaned_emails.csv', index=False)"
   ]
  },
  {
   "cell_type": "markdown",
   "id": "46fea612-1354-40fa-b282-3f169e959762",
   "metadata": {},
   "source": [
    "<h2> Standardization</h2>"
   ]
  },
  {
   "cell_type": "code",
   "execution_count": 20,
   "id": "0b47ae2d-c43a-452f-867c-3b36a9b63278",
   "metadata": {},
   "outputs": [],
   "source": [
    "emails_df['Body_Length'] = emails_df['Body'].apply(len)"
   ]
  },
  {
   "cell_type": "code",
   "execution_count": 21,
   "id": "b0a5ee68-a3e4-45fa-a505-f41e9d7fc8cc",
   "metadata": {},
   "outputs": [],
   "source": [
    "emails_df['Num_Recipients'] = emails_df['To'].apply(lambda x: len(x.split(',')) if isinstance(x, str) else 0)\n"
   ]
  },
  {
   "cell_type": "code",
   "execution_count": 22,
   "id": "fc2cd511-48d7-4984-a597-09b23232100e",
   "metadata": {},
   "outputs": [],
   "source": [
    "emails_df['Subject_Word_Count'] = emails_df['Subject'].apply(lambda x: len(x.split()) if isinstance(x, str) else 0)"
   ]
  },
  {
   "cell_type": "code",
   "execution_count": 23,
   "id": "2b289ac3-424f-44d0-bd62-8edccb7c532b",
   "metadata": {},
   "outputs": [],
   "source": [
    "emails_df['Timestamp'] = emails_df['Date'].apply(lambda x: x.timestamp() if pd.notnull(x) else 0)"
   ]
  },
  {
   "cell_type": "code",
   "execution_count": 24,
   "id": "a3d4dd96-595b-4f11-82d9-1ec9483933da",
   "metadata": {},
   "outputs": [],
   "source": [
    "numerical_features = ['Body_Length', 'Num_Recipients', 'Subject_Word_Count', 'Timestamp']"
   ]
  },
  {
   "cell_type": "code",
   "execution_count": 25,
   "id": "3fa91576-09c0-43b1-aa43-fed0f86bb4f4",
   "metadata": {},
   "outputs": [],
   "source": [
    "#init scalar\n",
    "scaler = StandardScaler()"
   ]
  },
  {
   "cell_type": "code",
   "execution_count": 26,
   "id": "34be54c8-62ae-487b-9579-85bd93251df0",
   "metadata": {},
   "outputs": [],
   "source": [
    "#apply standardisation\n",
    "emails_df[numerical_features] = scaler.fit_transform(emails_df[numerical_features])"
   ]
  },
  {
   "cell_type": "code",
   "execution_count": 27,
   "id": "abc44739-3ae5-4b3a-a33a-b0eb94dfcb36",
   "metadata": {},
   "outputs": [
    {
     "name": "stdout",
     "output_type": "stream",
     "text": [
      "   Body_Length  Num_Recipients  Subject_Word_Count  Timestamp\n",
      "0    -0.222735       -0.342952           -0.948929   0.256478\n",
      "1    -0.129466       -0.342952           -1.341740   0.225712\n",
      "2    -0.221880       -0.342952           -0.948929  -0.377824\n",
      "3    -0.202688       -0.342952           -0.948929  -0.362210\n",
      "4    -0.221268       -0.342952           -0.948929  -0.523534\n"
     ]
    }
   ],
   "source": [
    "#verification\n",
    "print(emails_df[numerical_features].head())"
   ]
  },
  {
   "cell_type": "code",
   "execution_count": 28,
   "id": "354bcf9e-c34a-4184-9602-c86a6c88f777",
   "metadata": {},
   "outputs": [],
   "source": [
    "from collections import Counter"
   ]
  },
  {
   "cell_type": "code",
   "execution_count": 29,
   "id": "1ef55d01-51d4-4f3b-a1e1-1dab85140a5f",
   "metadata": {},
   "outputs": [],
   "source": [
    "#extracting sender-receiver pairs\n",
    "emails_df['To'] = emails_df['To'].fillna(\"\")  # Handle missing 'To' values\n",
    "emails_df['Recipients_List'] = emails_df['To'].apply(lambda x: x.split(','))\n",
    "\n",
    "#use a list, faster to process\n",
    "email_pairs = [(row['From'], recipient.strip()) \n",
    "               for _, row in emails_df.iterrows() \n",
    "               for recipient in row['Recipients_List']]"
   ]
  },
  {
   "cell_type": "code",
   "execution_count": 30,
   "id": "0875d3e3-290c-4662-84bf-712586468db5",
   "metadata": {},
   "outputs": [],
   "source": [
    "#count frequent interaction\n",
    "pair_counter = Counter(email_pairs)"
   ]
  },
  {
   "cell_type": "code",
   "execution_count": 31,
   "id": "e16f5737-5678-4c31-9766-97f26d27a11b",
   "metadata": {},
   "outputs": [],
   "source": [
    "#define trusted pairs\n",
    "trusted_pairs = [pair for pair, count in pair_counter.items() if count > 10]"
   ]
  },
  {
   "cell_type": "code",
   "execution_count": 32,
   "id": "f7a265c4-23fa-41da-9ba7-fc789f894471",
   "metadata": {},
   "outputs": [],
   "source": [
    "#filter emails belonging to trusted pairs\n",
    "emails_df['Is_Trusted'] = emails_df.apply(\n",
    "    lambda row: any((row['From'], recipient) in trusted_pairs for recipient in row['Recipients_List']),\n",
    "    axis=1\n",
    ")"
   ]
  },
  {
   "cell_type": "code",
   "execution_count": 33,
   "id": "1079f418-5a69-4362-b70b-ad82ca420314",
   "metadata": {},
   "outputs": [],
   "source": [
    "#group emails by trusted interactions\n",
    "trusted_chains = emails_df[emails_df['Is_Trusted']]"
   ]
  },
  {
   "cell_type": "code",
   "execution_count": 34,
   "id": "046c7801-0e95-4ace-9040-c416b41a5e90",
   "metadata": {},
   "outputs": [
    {
     "name": "stdout",
     "output_type": "stream",
     "text": [
      "Number of Trusted Pairs: 13445\n",
      "Sample Trusted Pairs:\n",
      "[('phillip.allen@enron.com', 'tim.belden@enron.com'), ('phillip.allen@enron.com', 'john.lavorato@enron.com'), ('phillip.allen@enron.com', 'stagecoachmama@hotmail.com'), ('phillip.allen@enron.com', 'keith.holst@enron.com'), ('phillip.allen@enron.com', 'paula.harris@enron.com'), ('phillip.allen@enron.com', 'ina.rangel@enron.com'), ('phillip.allen@enron.com', 'tim.heizenrader@enron.com'), ('phillip.allen@enron.com', 'pallen70@hotmail.com'), ('phillip.allen@enron.com', 'bs_stone@yahoo.com'), ('phillip.allen@enron.com', 'stouchstone@natsource.com')]\n"
     ]
    }
   ],
   "source": [
    "#inspeect to confirm trusted sender and receiver pairs are cirrectly identified\n",
    "print(f\"Number of Trusted Pairs: {len(trusted_pairs)}\")\n",
    "print(\"Sample Trusted Pairs:\")\n",
    "print(trusted_pairs[:10])"
   ]
  },
  {
   "cell_type": "code",
   "execution_count": 35,
   "id": "5c41f946-9bac-415f-92f8-6c0ebd5a01d9",
   "metadata": {},
   "outputs": [
    {
     "name": "stdout",
     "output_type": "stream",
     "text": [
      "Number of Emails in Trusted Chains: 334803\n",
      "Sample Trusted Emails:\n",
      "                       From                          To  \\\n",
      "0   phillip.allen@enron.com        tim.belden@enron.com   \n",
      "1   phillip.allen@enron.com     john.lavorato@enron.com   \n",
      "11  phillip.allen@enron.com  stagecoachmama@hotmail.com   \n",
      "12  phillip.allen@enron.com       keith.holst@enron.com   \n",
      "13  phillip.allen@enron.com       keith.holst@enron.com   \n",
      "\n",
      "                                                 Body  \n",
      "0                           Here is our forecast\\n\\n   \n",
      "1   Traveling to have a business meeting takes the...  \n",
      "11  Lucy,\\n\\n Here are the rentrolls:\\n\\n\\n\\n Open...  \n",
      "12  ---------------------- Forwarded by Phillip K ...  \n",
      "13  ---------------------- Forwarded by Phillip K ...  \n"
     ]
    }
   ],
   "source": [
    "print(\"Number of Emails in Trusted Chains:\", len(trusted_chains))\n",
    "print(\"Sample Trusted Emails:\")\n",
    "print(trusted_chains[['From', 'To', 'Body']].head())"
   ]
  },
  {
   "cell_type": "code",
   "execution_count": 36,
   "id": "8274b2ec-e59f-4ace-bf61-8752553dceed",
   "metadata": {},
   "outputs": [
    {
     "name": "stdout",
     "output_type": "stream",
     "text": [
      "Emails for Trusted Pair ('phillip.allen@enron.com', 'tim.belden@enron.com'):\n",
      "                                                  Body\n",
      "0                            Here is our forecast\\n\\n \n",
      "153  Tim,\\n Matt sent you a email with his attempt ...\n",
      "186  ---------------------- Forwarded by Phillip K ...\n",
      "269  forecast for socal demand/rec/storage.  Looks ...\n",
      "277                             Here is our forecast\\n\n"
     ]
    }
   ],
   "source": [
    "#cross check\n",
    "sample_pair = trusted_pairs[0]\n",
    "print(f\"Emails for Trusted Pair {sample_pair}:\")\n",
    "print(trusted_chains[\n",
    "    (trusted_chains['From'] == sample_pair[0]) & \n",
    "    (trusted_chains['Recipients_List'].apply(lambda x: sample_pair[1] in x))\n",
    "][['Body']].head())"
   ]
  },
  {
   "cell_type": "code",
   "execution_count": 37,
   "id": "19fca9d3-07d3-4e28-b217-61f85d306357",
   "metadata": {},
   "outputs": [
    {
     "name": "stdout",
     "output_type": "stream",
     "text": [
      "Number of Chains: 334803\n",
      "Sample Chains:\n",
      "Chain: ('1.10043390.-2@multexinvestornetwork.com', 'jwillia@enron.com')\n",
      "Number of Emails: 38\n",
      "507999    In today's Daily Update, you'll find research ...\n",
      "508007    From today's edition of the Daily Update, you ...\n",
      "508011    In today's Daily Update, we feature research o...\n",
      "508024    From today's Daily Update, you'll have the opp...\n",
      "508036    From today's special weekend edition of the Da...\n",
      "Name: Body, dtype: object \n",
      "\n",
      "Chain: ('1.10969419.-2@multexinvestornetwork.com', 'harry.arora@enron.com')\n",
      "Number of Emails: 11\n",
      "8041    Our gifts to you this week: Several reports th...\n",
      "8051    Features: angels find investment opportunities...\n",
      "8085    Read what independent analyst Charles Payne ha...\n",
      "8127    To help celebrate the Holiday season and the N...\n",
      "8141    In today's edition of the Daily Update, equity...\n",
      "Name: Body, dtype: object \n",
      "\n",
      "Chain: ('1.11176403.-2@multexinvestornetwork.com', 'alewis@ect.enron.com')\n",
      "Number of Emails: 18\n",
      "279739    In today's Daily Update you'll find free repor...\n",
      "279856    In today's Daily Update you'll find free repor...\n",
      "279898    In today's Daily Update you'll find free repor...\n",
      "280894    From today's edition of the Daily Update, you ...\n",
      "280918    In today's Daily Update, we feature research o...\n",
      "Name: Body, dtype: object \n",
      "\n",
      "Chain: ('1.12714936.-2@multexinvestornetwork.com', 'brapp@enron.com')\n",
      "Number of Emails: 13\n",
      "368453    In today's edition of the Daily Update, Ben Ma...\n",
      "368461    Water, water, everywhere! A flood can turn you...\n",
      "368463    You have questions, we have suggestions. Repor...\n",
      "368475    Whats in a name? Maybe something after all, as...\n",
      "368476    In today's edition of the Daily Update, e-proc...\n",
      "Name: Body, dtype: object \n",
      "\n"
     ]
    }
   ],
   "source": [
    "chain_count = 0\n",
    "\n",
    "\n",
    "print(\"Number of Chains:\", len(trusted_chains))\n",
    "print(\"Sample Chains:\")\n",
    "\n",
    "# Loop over each chain \n",
    "for chain, emails in trusted_chains.groupby(['From', 'To']):\n",
    "    if chain_count >= 4:  # Limit nmber of chains\n",
    "        break\n",
    "    print(f\"Chain: {chain}\")\n",
    "    print(f\"Number of Emails: {len(emails)}\")\n",
    "    print(emails['Body'].head(), \"\\n\")\n",
    "    chain_count += 1"
   ]
  },
  {
   "cell_type": "markdown",
   "id": "82102a36-8f54-4fcf-aef4-9df856586191",
   "metadata": {},
   "source": [
    "<h2> Introduce phishing samples: </h2>"
   ]
  },
  {
   "cell_type": "code",
   "execution_count": 38,
   "id": "1261704e-39d6-40f4-b28d-b12413f9ad4f",
   "metadata": {
    "editable": true,
    "slideshow": {
     "slide_type": ""
    },
    "tags": []
   },
   "outputs": [],
   "source": [
    "import random"
   ]
  },
  {
   "cell_type": "code",
   "execution_count": 39,
   "id": "3d19fd0d-d711-4931-8d9e-0eed64c05490",
   "metadata": {},
   "outputs": [],
   "source": [
    "#funct generate spoofed emails\n",
    "def generate_spoofed_email(row):\n",
    "    spoofed_email = row.copy()\n",
    "    spoofed_email['From'] = re.sub(r'@.+$', '@spoofed.com', row['From'])  # Change domain\n",
    "    spoofed_email['Body'] += \"\\nClick here: http://malicious-link.com\"  # Add phishing content\n",
    "    spoofed_email['Label'] = 1  # Mark as phishing\n",
    "    return spoofed_email"
   ]
  },
  {
   "cell_type": "code",
   "execution_count": 40,
   "id": "38fc4139-5e72-463e-9808-c308b607f10a",
   "metadata": {},
   "outputs": [],
   "source": [
    "#clone and spoof percentage of trusted emails\n",
    "spoofed_emails = trusted_chains.sample(frac=0.2, random_state=42).apply(generate_spoofed_email, axis=1)\n"
   ]
  },
  {
   "cell_type": "code",
   "execution_count": 41,
   "id": "97fb611a-433a-44f6-a265-d53daf7a9fe9",
   "metadata": {},
   "outputs": [],
   "source": [
    "#combine legit and spoofed emails\n",
    "emails_df['Label'] = 0  # Legitimate emails\n",
    "final_dataset = pd.concat([emails_df, spoofed_emails])"
   ]
  },
  {
   "cell_type": "code",
   "execution_count": 42,
   "id": "4b13fbf0-ba0a-445a-be18-76d7226f47cf",
   "metadata": {},
   "outputs": [
    {
     "name": "stdout",
     "output_type": "stream",
     "text": [
      "Spoofed Emails Sample:\n",
      "                                       file  \\\n",
      "246821      kean-s/discussion_threads/3115.   \n",
      "244566      kean-s/discussion_threads/1069.   \n",
      "326450          mcconnell-m/_sent_mail/359.   \n",
      "275117         lenhart-m/all_documents/366.   \n",
      "443986  skilling-j/discussion_threads/1075.   \n",
      "\n",
      "                                           Message-ID  \\\n",
      "246821  <10170593.1075848177616.JavaMail.evans@thyme>   \n",
      "244566  <28983404.1075848097229.JavaMail.evans@thyme>   \n",
      "326450   <4093499.1075843986028.JavaMail.evans@thyme>   \n",
      "275117   <6074789.1075849747487.JavaMail.evans@thyme>   \n",
      "443986  <25520575.1075845504060.JavaMail.evans@thyme>   \n",
      "\n",
      "                             Date                         From  \\\n",
      "246821  2001-04-27 02:48:00-07:00    jeff.dasovich@spoofed.com   \n",
      "244566  2000-08-31 09:16:00-07:00     robert.frank@spoofed.com   \n",
      "326450  2000-12-04 10:36:00-08:00   mike.mcconnell@spoofed.com   \n",
      "275117  2001-02-08 03:47:00-08:00  matthew.lenhart@spoofed.com   \n",
      "443986  2001-03-07 02:17:00-08:00    lisa.connolly@spoofed.com   \n",
      "\n",
      "                                                       To  \\\n",
      "246821  skean@enron.com, richard.shapiro@enron.com, ja...   \n",
      "244566                              steven.kean@enron.com   \n",
      "326450                            eric.gonzales@enron.com   \n",
      "275117                          matthew.lenhart@enron.com   \n",
      "443986  jeff.skilling@enron.com, etblaw@aol.com, gbsmi...   \n",
      "\n",
      "                                                  Subject  \\\n",
      "246821             Friday, April 27 Pilot Black Out Drill   \n",
      "244566  Update on Legislative situation re Hefley amen...   \n",
      "326450                                       Project Jose   \n",
      "275117                                                Re:   \n",
      "443986                          Conference call specifics   \n",
      "\n",
      "                                                     Body  Body_Length  \\\n",
      "246821  FYI.\\nSilicon Valley Manufacturing Group alrea...    -0.136801   \n",
      "244566  Steve, this may change our strategy but we cou...     0.082498   \n",
      "326450  RAC came by and brought up a couple of concern...    -0.162838   \n",
      "275117  what is going on in denver?  are you and max f...    -0.195842   \n",
      "443986  ---------------------- Forwarded by Lisa Conno...    -0.155870   \n",
      "\n",
      "        Num_Recipients  Subject_Word_Count  Timestamp  \\\n",
      "246821        1.193596            1.015129   0.203023   \n",
      "244566       -0.342952            1.015129  -0.523008   \n",
      "326450       -0.342952           -0.948929  -0.233797   \n",
      "275117       -0.342952           -1.341740  -0.033940   \n",
      "443986        1.193596           -0.556117   0.047982   \n",
      "\n",
      "                                          Recipients_List  Is_Trusted  Label  \n",
      "246821  [skean@enron.com,  richard.shapiro@enron.com, ...        True      1  \n",
      "244566                            [steven.kean@enron.com]        True      1  \n",
      "326450                          [eric.gonzales@enron.com]        True      1  \n",
      "275117                        [matthew.lenhart@enron.com]        True      1  \n",
      "443986  [jeff.skilling@enron.com,  etblaw@aol.com,  gb...        True      1  \n"
     ]
    }
   ],
   "source": [
    "#check the structof spoofed_emails dataframe\n",
    "print(\"Spoofed Emails Sample:\")\n",
    "print(spoofed_emails.head())"
   ]
  },
  {
   "cell_type": "code",
   "execution_count": 43,
   "id": "b2f59b15-9576-45b3-b8a5-9a17d0d54f93",
   "metadata": {},
   "outputs": [
    {
     "name": "stdout",
     "output_type": "stream",
     "text": [
      "Expected Spoofed Emails: 66960, Actual: 66961\n"
     ]
    }
   ],
   "source": [
    "#confirm size of spoofed mails matches expected percentage of trusted\n",
    "expected_count = int(len(trusted_chains) * 0.2)\n",
    "actual_count = len(spoofed_emails)\n",
    "print(f\"Expected Spoofed Emails: {expected_count}, Actual: {actual_count}\")"
   ]
  },
  {
   "cell_type": "code",
   "execution_count": 44,
   "id": "8276f490-8aa2-48da-b447-0324ec51173c",
   "metadata": {},
   "outputs": [],
   "source": [
    "#confirm combination of ligit and spoofed.*\n",
    "assert len(final_dataset) == len(emails_df) + len(spoofed_emails), \"Mismatch in dataset sizes!\"\n",
    "assert final_dataset['Label'].value_counts()[1] == len(spoofed_emails), \"Incorrect spoofed email count!\""
   ]
  },
  {
   "cell_type": "code",
   "execution_count": 45,
   "id": "5f6849d9-6fbf-44dc-a34e-8e16e48ba29f",
   "metadata": {},
   "outputs": [
    {
     "name": "stdout",
     "output_type": "stream",
     "text": [
      "First 5 Rows of Final Dataset:\n",
      "                       file                                     Message-ID  \\\n",
      "0     allen-p/_sent_mail/1.  <18782981.1075855378110.JavaMail.evans@thyme>   \n",
      "1    allen-p/_sent_mail/10.  <15464986.1075855378456.JavaMail.evans@thyme>   \n",
      "2   allen-p/_sent_mail/100.  <24216240.1075855687451.JavaMail.evans@thyme>   \n",
      "3  allen-p/_sent_mail/1000.  <13505866.1075863688222.JavaMail.evans@thyme>   \n",
      "4  allen-p/_sent_mail/1001.  <30922949.1075863688243.JavaMail.evans@thyme>   \n",
      "\n",
      "                        Date                     From  \\\n",
      "0  2001-05-14 16:39:00-07:00  phillip.allen@enron.com   \n",
      "1  2001-05-04 13:51:00-07:00  phillip.allen@enron.com   \n",
      "2  2000-10-18 03:00:00-07:00  phillip.allen@enron.com   \n",
      "3  2000-10-23 06:13:00-07:00  phillip.allen@enron.com   \n",
      "4  2000-08-31 05:07:00-07:00  phillip.allen@enron.com   \n",
      "\n",
      "                        To            Subject  \\\n",
      "0     tim.belden@enron.com  Mime-Version: 1.0   \n",
      "1  john.lavorato@enron.com                Re:   \n",
      "2   leah.arsdall@enron.com           Re: test   \n",
      "3    randall.gay@enron.com  Mime-Version: 1.0   \n",
      "4     greg.piper@enron.com          Re: Hello   \n",
      "\n",
      "                                                Body  Body_Length  \\\n",
      "0                          Here is our forecast\\n\\n     -0.222735   \n",
      "1  Traveling to have a business meeting takes the...    -0.129466   \n",
      "2                     test successful.  way to go!!!    -0.221880   \n",
      "3  Randy,\\n\\n Can you send me a schedule of the s...    -0.202688   \n",
      "4                Let's shoot for Tuesday at 11:45.      -0.221268   \n",
      "\n",
      "   Num_Recipients  Subject_Word_Count  Timestamp            Recipients_List  \\\n",
      "0       -0.342952           -0.948929   0.256478     [tim.belden@enron.com]   \n",
      "1       -0.342952           -1.341740   0.225712  [john.lavorato@enron.com]   \n",
      "2       -0.342952           -0.948929  -0.377824   [leah.arsdall@enron.com]   \n",
      "3       -0.342952           -0.948929  -0.362210    [randall.gay@enron.com]   \n",
      "4       -0.342952           -0.948929  -0.523534     [greg.piper@enron.com]   \n",
      "\n",
      "   Is_Trusted  Label  \n",
      "0        True      0  \n",
      "1        True      0  \n",
      "2       False      0  \n",
      "3       False      0  \n",
      "4       False      0  \n",
      "Last 5 Rows of Final Dataset:\n",
      "                                 file  \\\n",
      "248933          kean-s/heat_wave/156.   \n",
      "84632       davis-d/deleted_items/75.   \n",
      "219396           kaminski-v/inbox/12.   \n",
      "374995         rogers-b/_sent_mail/5.   \n",
      "271012  lay-k/discussion_threads/711.   \n",
      "\n",
      "                                           Message-ID  \\\n",
      "248933   <4841892.1075846351339.JavaMail.evans@thyme>   \n",
      "84632   <14389247.1075851575193.JavaMail.evans@thyme>   \n",
      "219396  <27469166.1075840782399.JavaMail.evans@thyme>   \n",
      "374995  <32664159.1075857245190.JavaMail.evans@thyme>   \n",
      "271012  <28294985.1075840249965.JavaMail.evans@thyme>   \n",
      "\n",
      "                             Date                             From  \\\n",
      "248933  2000-08-23 06:48:00-07:00     gavin.dillingham@spoofed.com   \n",
      "84632   2001-10-22 04:29:14-07:00           no.address@spoofed.com   \n",
      "219396  2002-01-30 08:51:22-08:00  announcements.enron@spoofed.com   \n",
      "374995  2000-12-12 07:28:00-08:00      benjamin.rogers@spoofed.com   \n",
      "271012  2000-11-16 08:23:00-08:00     leonardo.pacheco@spoofed.com   \n",
      "\n",
      "                                                       To  \\\n",
      "248933                              steven.kean@enron.com   \n",
      "84632                           All Enron Worldwide@ENRON   \n",
      "219396                       dl-ga-all_domestic@enron.com   \n",
      "374995                            james.simpson@enron.com   \n",
      "271012  kenneth.lay@enron.com, jeff.skilling@enron.com...   \n",
      "\n",
      "                                                  Subject  \\\n",
      "248933                            California Enron Offers   \n",
      "84632                                All-Employee Meeting   \n",
      "219396           Enron Conference Call Today, 11:00am CST   \n",
      "374995                                      Re: Congrats!   \n",
      "271012  EnronOnline Executive Summary for November 15,...   \n",
      "\n",
      "                                                     Body  Body_Length  \\\n",
      "248933  Here are five articles pertaining to Enron and...     0.014166   \n",
      "84632   I want to remind you about our All-Employee Me...    -0.131055   \n",
      "219396  Steve Cooper, Jeff McMahon and Ray Bowen will ...    -0.189364   \n",
      "374995  How did you like the counter-party?\\nBen\\nClic...    -0.220779   \n",
      "271012  Following please find the Daily EnronOnline Ex...    -0.093528   \n",
      "\n",
      "        Num_Recipients  Subject_Word_Count  Timestamp  \\\n",
      "248933       -0.342952           -0.556117  -0.547650   \n",
      "84632        -0.342952           -0.948929   0.744573   \n",
      "219396       -0.342952            0.622317   1.049374   \n",
      "374995       -0.342952           -0.948929  -0.209864   \n",
      "271012        1.193596            1.015129  -0.288819   \n",
      "\n",
      "                                          Recipients_List  Is_Trusted  Label  \n",
      "248933                            [steven.kean@enron.com]        True      1  \n",
      "84632                         [All Enron Worldwide@ENRON]        True      1  \n",
      "219396                     [dl-ga-all_domestic@enron.com]        True      1  \n",
      "374995                          [james.simpson@enron.com]        True      1  \n",
      "271012  [kenneth.lay@enron.com,  jeff.skilling@enron.c...        True      1  \n"
     ]
    }
   ],
   "source": [
    "#validate concat of dataframes\n",
    "\n",
    "print(\"First 5 Rows of Final Dataset:\")\n",
    "print(final_dataset.head())\n",
    "print(\"Last 5 Rows of Final Dataset:\")\n",
    "print(final_dataset.tail())"
   ]
  },
  {
   "cell_type": "code",
   "execution_count": 46,
   "id": "80db583b-a97d-454a-a8e9-c6296323e211",
   "metadata": {},
   "outputs": [],
   "source": [
    "emails_df['Label'] = 0#mark all legit emails as 0"
   ]
  },
  {
   "cell_type": "code",
   "execution_count": 47,
   "id": "685a4f7a-cd9d-40e7-b3bc-e9efbcd058ac",
   "metadata": {},
   "outputs": [],
   "source": [
    "spoofed_emails['Label'] = 1 #mark all spoofed emails as 1"
   ]
  },
  {
   "cell_type": "code",
   "execution_count": 48,
   "id": "d047df22-db95-402d-8cff-f35bda693010",
   "metadata": {},
   "outputs": [],
   "source": [
    "#concat legit and spoofed into one dataset.\n",
    "final_dataset = pd.concat([emails_df, spoofed_emails], ignore_index=True)"
   ]
  },
  {
   "cell_type": "code",
   "execution_count": 49,
   "id": "c2af0e41-60df-4e70-8ba0-1d3a1d5f5859",
   "metadata": {},
   "outputs": [
    {
     "name": "stdout",
     "output_type": "stream",
     "text": [
      "Label Distribution in Final Dataset:\n",
      "Label\n",
      "0    517401\n",
      "1     66961\n",
      "Name: count, dtype: int64\n"
     ]
    }
   ],
   "source": [
    "#check distribution\n",
    "print(\"Label Distribution in Final Dataset:\")\n",
    "print(final_dataset['Label'].value_counts())"
   ]
  },
  {
   "cell_type": "code",
   "execution_count": 50,
   "id": "c0bf2600-d73a-4bf9-adf8-db8dbbf32756",
   "metadata": {},
   "outputs": [
    {
     "name": "stdout",
     "output_type": "stream",
     "text": [
      "Dataset saved successfully.\n"
     ]
    }
   ],
   "source": [
    "#save final dataset with labels for model prep\n",
    "final_dataset.to_csv('labelLed_emails_dataset.csv', index=False)\n",
    "print(\"Dataset saved successfully.\")"
   ]
  },
  {
   "cell_type": "code",
   "execution_count": 51,
   "id": "bf137cf1-b9e0-4190-af32-a3144a6bda97",
   "metadata": {},
   "outputs": [
    {
     "name": "stdout",
     "output_type": "stream",
     "text": [
      "Legitimate Emails Sample:\n",
      "                       file                                     Message-ID  \\\n",
      "0     allen-p/_sent_mail/1.  <18782981.1075855378110.JavaMail.evans@thyme>   \n",
      "1    allen-p/_sent_mail/10.  <15464986.1075855378456.JavaMail.evans@thyme>   \n",
      "2   allen-p/_sent_mail/100.  <24216240.1075855687451.JavaMail.evans@thyme>   \n",
      "3  allen-p/_sent_mail/1000.  <13505866.1075863688222.JavaMail.evans@thyme>   \n",
      "4  allen-p/_sent_mail/1001.  <30922949.1075863688243.JavaMail.evans@thyme>   \n",
      "\n",
      "                        Date                     From  \\\n",
      "0  2001-05-14 16:39:00-07:00  phillip.allen@enron.com   \n",
      "1  2001-05-04 13:51:00-07:00  phillip.allen@enron.com   \n",
      "2  2000-10-18 03:00:00-07:00  phillip.allen@enron.com   \n",
      "3  2000-10-23 06:13:00-07:00  phillip.allen@enron.com   \n",
      "4  2000-08-31 05:07:00-07:00  phillip.allen@enron.com   \n",
      "\n",
      "                        To            Subject  \\\n",
      "0     tim.belden@enron.com  Mime-Version: 1.0   \n",
      "1  john.lavorato@enron.com                Re:   \n",
      "2   leah.arsdall@enron.com           Re: test   \n",
      "3    randall.gay@enron.com  Mime-Version: 1.0   \n",
      "4     greg.piper@enron.com          Re: Hello   \n",
      "\n",
      "                                                Body  Body_Length  \\\n",
      "0                          Here is our forecast\\n\\n     -0.222735   \n",
      "1  Traveling to have a business meeting takes the...    -0.129466   \n",
      "2                     test successful.  way to go!!!    -0.221880   \n",
      "3  Randy,\\n\\n Can you send me a schedule of the s...    -0.202688   \n",
      "4                Let's shoot for Tuesday at 11:45.      -0.221268   \n",
      "\n",
      "   Num_Recipients  Subject_Word_Count  Timestamp            Recipients_List  \\\n",
      "0       -0.342952           -0.948929   0.256478     [tim.belden@enron.com]   \n",
      "1       -0.342952           -1.341740   0.225712  [john.lavorato@enron.com]   \n",
      "2       -0.342952           -0.948929  -0.377824   [leah.arsdall@enron.com]   \n",
      "3       -0.342952           -0.948929  -0.362210    [randall.gay@enron.com]   \n",
      "4       -0.342952           -0.948929  -0.523534     [greg.piper@enron.com]   \n",
      "\n",
      "   Is_Trusted  Label  \n",
      "0        True      0  \n",
      "1        True      0  \n",
      "2       False      0  \n",
      "3       False      0  \n",
      "4       False      0  \n"
     ]
    }
   ],
   "source": [
    "#inspect the rows\n",
    "print(\"Legitimate Emails Sample:\")\n",
    "print(final_dataset[final_dataset['Label'] == 0].head())\n"
   ]
  },
  {
   "cell_type": "code",
   "execution_count": 52,
   "id": "a228c4a0-58c3-4b5e-b965-d6c54587d3bb",
   "metadata": {},
   "outputs": [
    {
     "name": "stdout",
     "output_type": "stream",
     "text": [
      "Phishing Emails Sample:\n",
      "                                       file  \\\n",
      "517401      kean-s/discussion_threads/3115.   \n",
      "517402      kean-s/discussion_threads/1069.   \n",
      "517403          mcconnell-m/_sent_mail/359.   \n",
      "517404         lenhart-m/all_documents/366.   \n",
      "517405  skilling-j/discussion_threads/1075.   \n",
      "\n",
      "                                           Message-ID  \\\n",
      "517401  <10170593.1075848177616.JavaMail.evans@thyme>   \n",
      "517402  <28983404.1075848097229.JavaMail.evans@thyme>   \n",
      "517403   <4093499.1075843986028.JavaMail.evans@thyme>   \n",
      "517404   <6074789.1075849747487.JavaMail.evans@thyme>   \n",
      "517405  <25520575.1075845504060.JavaMail.evans@thyme>   \n",
      "\n",
      "                             Date                         From  \\\n",
      "517401  2001-04-27 02:48:00-07:00    jeff.dasovich@spoofed.com   \n",
      "517402  2000-08-31 09:16:00-07:00     robert.frank@spoofed.com   \n",
      "517403  2000-12-04 10:36:00-08:00   mike.mcconnell@spoofed.com   \n",
      "517404  2001-02-08 03:47:00-08:00  matthew.lenhart@spoofed.com   \n",
      "517405  2001-03-07 02:17:00-08:00    lisa.connolly@spoofed.com   \n",
      "\n",
      "                                                       To  \\\n",
      "517401  skean@enron.com, richard.shapiro@enron.com, ja...   \n",
      "517402                              steven.kean@enron.com   \n",
      "517403                            eric.gonzales@enron.com   \n",
      "517404                          matthew.lenhart@enron.com   \n",
      "517405  jeff.skilling@enron.com, etblaw@aol.com, gbsmi...   \n",
      "\n",
      "                                                  Subject  \\\n",
      "517401             Friday, April 27 Pilot Black Out Drill   \n",
      "517402  Update on Legislative situation re Hefley amen...   \n",
      "517403                                       Project Jose   \n",
      "517404                                                Re:   \n",
      "517405                          Conference call specifics   \n",
      "\n",
      "                                                     Body  Body_Length  \\\n",
      "517401  FYI.\\nSilicon Valley Manufacturing Group alrea...    -0.136801   \n",
      "517402  Steve, this may change our strategy but we cou...     0.082498   \n",
      "517403  RAC came by and brought up a couple of concern...    -0.162838   \n",
      "517404  what is going on in denver?  are you and max f...    -0.195842   \n",
      "517405  ---------------------- Forwarded by Lisa Conno...    -0.155870   \n",
      "\n",
      "        Num_Recipients  Subject_Word_Count  Timestamp  \\\n",
      "517401        1.193596            1.015129   0.203023   \n",
      "517402       -0.342952            1.015129  -0.523008   \n",
      "517403       -0.342952           -0.948929  -0.233797   \n",
      "517404       -0.342952           -1.341740  -0.033940   \n",
      "517405        1.193596           -0.556117   0.047982   \n",
      "\n",
      "                                          Recipients_List  Is_Trusted  Label  \n",
      "517401  [skean@enron.com,  richard.shapiro@enron.com, ...        True      1  \n",
      "517402                            [steven.kean@enron.com]        True      1  \n",
      "517403                          [eric.gonzales@enron.com]        True      1  \n",
      "517404                        [matthew.lenhart@enron.com]        True      1  \n",
      "517405  [jeff.skilling@enron.com,  etblaw@aol.com,  gb...        True      1  \n"
     ]
    }
   ],
   "source": [
    "#inspect the rows \n",
    "print(\"Phishing Emails Sample:\")\n",
    "print(final_dataset[final_dataset['Label'] == 1].head())"
   ]
  },
  {
   "cell_type": "code",
   "execution_count": 53,
   "id": "02b9b6a9-f7ac-48c5-9402-92d6fcf50140",
   "metadata": {},
   "outputs": [
    {
     "name": "stdout",
     "output_type": "stream",
     "text": [
      "Legitimate: 517401, Phishing: 66961\n"
     ]
    }
   ],
   "source": [
    "#check balance of distrubution\n",
    "total_legitimate = len(emails_df)\n",
    "total_phishing = len(spoofed_emails)\n",
    "print(f\"Legitimate: {total_legitimate}, Phishing: {total_phishing}\")"
   ]
  },
  {
   "cell_type": "markdown",
   "id": "5660bf45-5773-4e49-bfec-858264124caf",
   "metadata": {},
   "source": [
    "<h2>Feature Engineering</h2>"
   ]
  },
  {
   "cell_type": "code",
   "execution_count": 54,
   "id": "90206ae8-dbd3-4774-a0a9-dd27c5e7ef48",
   "metadata": {},
   "outputs": [],
   "source": [
    "from datetime import datetime"
   ]
  },
  {
   "cell_type": "code",
   "execution_count": 55,
   "id": "72558abd-10eb-4df5-90c5-fd28126d0a21",
   "metadata": {},
   "outputs": [],
   "source": [
    "dataset = pd.read_csv('labelled_emails_dataset.csv')"
   ]
  },
  {
   "cell_type": "code",
   "execution_count": 56,
   "id": "51217f03-16a1-4309-a4f9-0d1f43f1332a",
   "metadata": {},
   "outputs": [],
   "source": [
    "#***Header features***\n",
    "#extract sender domain\n",
    "dataset['Sender_Domain'] = dataset['From'].apply(lambda x: re.search(r'@([\\w.-]+)', x).group(1) if isinstance(x, str) and '@' in x else \"Unknown\")"
   ]
  },
  {
   "cell_type": "code",
   "execution_count": 57,
   "id": "cb9edb11-cc79-4b55-a05d-2ea49e5419d9",
   "metadata": {},
   "outputs": [],
   "source": [
    "#count recipient\n",
    "dataset['Recipient_Count'] = dataset['To'].apply(lambda x: len(x.split(',')) if isinstance(x, str) else 0)"
   ]
  },
  {
   "cell_type": "code",
   "execution_count": 58,
   "id": "da7b0ad9-77f8-4044-8d3e-29ead8a9bc42",
   "metadata": {},
   "outputs": [],
   "source": [
    "#detect sus keywords in 'Subject'\n",
    "suspicious_keywords = ['urgent', 'password', 'account', 'verify', 'login']\n",
    "dataset['Suspicious_Subject'] = dataset['Subject'].apply(\n",
    "    lambda x: any(keyword in str(x).lower() for keyword in suspicious_keywords)\n",
    ")\n"
   ]
  },
  {
   "cell_type": "code",
   "execution_count": 59,
   "id": "61a9e966-2713-46c4-9434-cd87baaa02c0",
   "metadata": {},
   "outputs": [],
   "source": [
    "#simulate DKIM + SPF status (real data would require external headers)\n",
    "dataset['Auth_Status'] = dataset['From'].apply(lambda x: 1 if 'trusted.com' in x else 0)"
   ]
  },
  {
   "cell_type": "code",
   "execution_count": 60,
   "id": "d3d13e5e-2ee7-4d19-a81d-23b99be00999",
   "metadata": {},
   "outputs": [],
   "source": [
    "#***CONTENT FEATURES***\n",
    "#body lngth\n",
    "dataset['Body_Length'] = dataset['Body'].apply(lambda x: len(str(x)) if isinstance(x, str) else 0)"
   ]
  },
  {
   "cell_type": "code",
   "execution_count": 61,
   "id": "baf85c73-b0d3-4041-91dd-9888f73c8542",
   "metadata": {},
   "outputs": [],
   "source": [
    "#links?\n",
    "dataset['Contains_Links'] = dataset['Body'].apply(lambda x: 1 if re.search(r'http[s]?://', str(x)) else 0)"
   ]
  },
  {
   "cell_type": "code",
   "execution_count": 62,
   "id": "c4b5ae52-790d-4b70-bc0e-ccffa4dd240f",
   "metadata": {},
   "outputs": [],
   "source": [
    "#simulate presence of attachments (placeholder)\n",
    "dataset['Has_Attachment'] = dataset['Body'].apply(lambda x: 1 if 'attachment' in str(x).lower() else 0)"
   ]
  },
  {
   "cell_type": "code",
   "execution_count": 63,
   "id": "5507799b-35ce-4d41-a616-d48cf8de5873",
   "metadata": {},
   "outputs": [],
   "source": [
    "#check phishing keywords in body\n",
    "phishing_keywords = ['login', 'click', 'verify', 'bank', 'account']\n",
    "dataset['Phishing_Keywords'] = dataset['Body'].apply(\n",
    "    lambda x: any(keyword in str(x).lower() for keyword in phishing_keywords)\n",
    ")"
   ]
  },
  {
   "cell_type": "code",
   "execution_count": 64,
   "id": "de4132bf-5104-4309-91ac-b3f360da6dc6",
   "metadata": {},
   "outputs": [],
   "source": [
    "#***BEHAVIORAL FEATURES***\n",
    "#simulate frequency of interaction (based on the From-To pair)\n",
    "interaction_counts = dataset.groupby(['From', 'To']).size()\n",
    "dataset['Interaction_Count'] = dataset.apply(\n",
    "    lambda row: interaction_counts.get((row['From'], row['To']), 0), axis=1\n",
    ")"
   ]
  },
  {
   "cell_type": "code",
   "execution_count": 76,
   "id": "2c860e51-a0ce-4dfd-9ed8-6c3c8808c521",
   "metadata": {},
   "outputs": [],
   "source": [
    "#drop rows with invalid 'Date' vals\n",
    "dataset = dataset.dropna(subset=['Date'])"
   ]
  },
  {
   "cell_type": "code",
   "execution_count": 77,
   "id": "67d97372-5a0e-4e46-9ea2-571a9d432d8a",
   "metadata": {},
   "outputs": [],
   "source": [
    "#sort vals before calculating time deltas\n",
    "dataset = dataset.sort_values(by=['From', 'To', 'Date'])"
   ]
  },
  {
   "cell_type": "code",
   "execution_count": 78,
   "id": "93a50405-8f12-47a8-8203-055e23dea1c2",
   "metadata": {},
   "outputs": [],
   "source": [
    "#calc time deltas between consecutive emails\n",
    "dataset['Time_Delta'] = dataset.groupby(['From', 'To'])['Date'].diff()\n",
    "dataset['Time_Delta'] = dataset['Time_Delta'].dt.total_seconds()  # Convert to seconds"
   ]
  },
  {
   "cell_type": "code",
   "execution_count": 79,
   "id": "52dc0170-5f85-4f20-acf9-86e3924a71a8",
   "metadata": {},
   "outputs": [],
   "source": [
    "#calc average time between emails\n",
    "dataset['Avg_Time_Between_Emails'] = dataset.groupby(['From', 'To'])['Time_Delta'].transform('mean')"
   ]
  },
  {
   "cell_type": "code",
   "execution_count": 71,
   "id": "a90a2f77-ca5b-4ee8-9f8b-a1906c3a85aa",
   "metadata": {},
   "outputs": [],
   "source": [
    "# Add a feature for emails sent at odd hours (e.g., late night)\n",
    "dataset['Odd_Hours'] = dataset['Date'].apply(lambda x: 1 if x.hour < 6 or x.hour > 22 else 0)\n"
   ]
  },
  {
   "cell_type": "code",
   "execution_count": 74,
   "id": "66b862e3-9d6d-42c2-a8ff-e4b48924728b",
   "metadata": {},
   "outputs": [],
   "source": [
    "#fill missing values in 'Time_Delta' and 'Avg_Time_Between_Emails' columns\n",
    "dataset['Time_Delta'] = dataset['Time_Delta'].fillna(0)\n",
    "dataset['Avg_Time_Between_Emails'] = dataset['Avg_Time_Between_Emails'].fillna(0)"
   ]
  },
  {
   "cell_type": "code",
   "execution_count": 75,
   "id": "8af6aeee-78a6-4e73-99d7-81214c4ce579",
   "metadata": {},
   "outputs": [
    {
     "name": "stdout",
     "output_type": "stream",
     "text": [
      "                                  From  \\\n",
      "406027   'todd'.delahoussaye@enron.com   \n",
      "371016  --migrated--bmishkin@ercot.com   \n",
      "509994              -nikole@excite.com   \n",
      "509870              -nikole@excite.com   \n",
      "509830              -nikole@excite.com   \n",
      "\n",
      "                                                       To  \\\n",
      "406027  derek.bailey@enron.com, jean.bell@enron.com, r...   \n",
      "371016                               mockmarket@ercot.com   \n",
      "509994                            bill.williams@enron.com   \n",
      "509870                            bill.williams@enron.com   \n",
      "509830                            bill.williams@enron.com   \n",
      "\n",
      "                            Date  Time_Delta  Avg_Time_Between_Emails  \\\n",
      "406027 2001-10-24 06:50:26-07:00         0.0                 0.000000   \n",
      "371016 2001-10-22 15:10:32-07:00         0.0                 0.000000   \n",
      "509994 2001-05-31 02:12:54-07:00         0.0            504852.714286   \n",
      "509870 2001-06-19 15:49:37-07:00   1690603.0            504852.714286   \n",
      "509830 2001-06-24 12:27:33-07:00    419876.0            504852.714286   \n",
      "\n",
      "        Odd_Hours  \n",
      "406027          0  \n",
      "371016          0  \n",
      "509994          1  \n",
      "509870          0  \n",
      "509830          0  \n"
     ]
    }
   ],
   "source": [
    "#confirm dataset\n",
    "print(dataset[['From', 'To', 'Date', 'Time_Delta', 'Avg_Time_Between_Emails', 'Odd_Hours']].head())"
   ]
  },
  {
   "cell_type": "code",
   "execution_count": 80,
   "id": "9943fce6-38cf-45a5-80d0-6193c3fe1798",
   "metadata": {},
   "outputs": [],
   "source": [
    "#***SAVE FINAL DATASET***\n",
    "#drop unnecessary columns to focus on features\n",
    "columns_to_drop = ['file', 'message', 'Recipients_List']  # add others not required for modeling\n",
    "dataset = dataset.drop(columns=[col for col in columns_to_drop if col in dataset])"
   ]
  },
  {
   "cell_type": "code",
   "execution_count": 81,
   "id": "5ac63302-f07a-49e2-a1c8-8b02d1ce67db",
   "metadata": {},
   "outputs": [
    {
     "name": "stdout",
     "output_type": "stream",
     "text": [
      "Feature-engineered dataset saved to engineered_labeled_emails_dataset.csv\n"
     ]
    }
   ],
   "source": [
    "#save engineered dataset\n",
    "processed_filename = 'engineered_labeled_emails_dataset.csv'\n",
    "dataset.to_csv(processed_filename, index=False)\n",
    "print(f\"Feature-engineered dataset saved to {processed_filename}\")"
   ]
  },
  {
   "cell_type": "markdown",
   "id": "f90260f9-199b-4baa-8ef3-9b8754728b61",
   "metadata": {},
   "source": [
    "<h2>Preprocessing</h2>"
   ]
  },
  {
   "cell_type": "markdown",
   "id": "cc81fc9b-df61-4ef4-b798-07b826f32a8f",
   "metadata": {},
   "source": [
    "<h4>Encoding categorical features</h4>"
   ]
  },
  {
   "cell_type": "code",
   "execution_count": 82,
   "id": "9cdb8396-2b91-4f27-a908-716305a677ee",
   "metadata": {},
   "outputs": [],
   "source": [
    "from sklearn.preprocessing import LabelEncoder"
   ]
  },
  {
   "cell_type": "code",
   "execution_count": 83,
   "id": "6371a78b-6928-45c1-a1fb-053c29b3fb8b",
   "metadata": {},
   "outputs": [],
   "source": [
    "#create copies of dataset to avoid any overwriting\n",
    "preprocessed_dataset = dataset.copy()"
   ]
  },
  {
   "cell_type": "code",
   "execution_count": 86,
   "id": "117892e3-f563-48b0-b960-3caa31ce1856",
   "metadata": {},
   "outputs": [],
   "source": [
    "#init label encoders\n",
    "label_encoder_from = LabelEncoder()\n",
    "label_encoder_to = LabelEncoder()"
   ]
  },
  {
   "cell_type": "code",
   "execution_count": 87,
   "id": "bcc28e7b-d0d9-4a6a-af21-4c5874fd47d1",
   "metadata": {},
   "outputs": [],
   "source": [
    "#encode From and To columns\n",
    "preprocessed_dataset['From_Encoded'] = label_encoder_from.fit_transform(preprocessed_dataset['From'])\n",
    "preprocessed_dataset['To_Encoded'] = label_encoder_to.fit_transform(preprocessed_dataset['To'])"
   ]
  },
  {
   "cell_type": "code",
   "execution_count": 88,
   "id": "2abfcf5b-2897-4a95-89fd-800fc0de1e1b",
   "metadata": {},
   "outputs": [],
   "source": [
    "#drop og categorical columns if encoded version replaces\n",
    "preprocessed_dataset = preprocessed_dataset.drop(columns=['From', 'To'])"
   ]
  },
  {
   "cell_type": "code",
   "execution_count": 89,
   "id": "c4d3fced-81d6-43fd-abea-e8ba0f814d79",
   "metadata": {},
   "outputs": [
    {
     "name": "stdout",
     "output_type": "stream",
     "text": [
      "        From_Encoded  To_Encoded\n",
      "406027             0        7562\n",
      "371016             1       21457\n",
      "509994             2        3363\n",
      "509870             2        3363\n",
      "509830             2        3363\n"
     ]
    }
   ],
   "source": [
    "#inspect\n",
    "print(preprocessed_dataset[['From_Encoded', 'To_Encoded']].head())"
   ]
  },
  {
   "cell_type": "code",
   "execution_count": 92,
   "id": "549108b5-d3b3-4b05-b7ab-5ae89012f2c9",
   "metadata": {},
   "outputs": [],
   "source": [
    "# save encoders for later use in Flask app (if need)\n",
    "import pickle\n",
    "with open('label_encoder_from.pkl', 'wb') as f:\n",
    "    pickle.dump(label_encoder_from, f)\n",
    "\n",
    "with open('label_encoder_to.pkl', 'wb') as f:\n",
    "    pickle.dump(label_encoder_to, f)\n"
   ]
  },
  {
   "cell_type": "code",
   "execution_count": 93,
   "id": "a7709612-5fab-4b98-b60a-6e205f05267d",
   "metadata": {},
   "outputs": [
    {
     "name": "stdout",
     "output_type": "stream",
     "text": [
      "Categorical features encoded and dataset saved successfully.\n"
     ]
    }
   ],
   "source": [
    "#save the preprocessed dataset\n",
    "preprocessed_dataset.to_csv('preprocessed_dataset.csv', index=False)\n",
    "print(\"Categorical features encoded and dataset saved successfully.\")"
   ]
  },
  {
   "cell_type": "markdown",
   "id": "99d3285f-8180-4f32-b03f-a6a379996d9a",
   "metadata": {},
   "source": [
    "<h2>Normalisation</h2>"
   ]
  },
  {
   "cell_type": "code",
   "execution_count": 94,
   "id": "a3fc2182-3866-4797-aa22-0bacbe1dd5dc",
   "metadata": {},
   "outputs": [],
   "source": [
    "numerical_features = ['Body_Length', 'Num_Recipients', 'Subject_Word_Count', \n",
    "                      'Timestamp', 'Time_Delta', 'Avg_Time_Between_Emails']\n"
   ]
  },
  {
   "cell_type": "code",
   "execution_count": 99,
   "id": "8f73ac65-0fb4-43e7-a16e-159bb223ae53",
   "metadata": {},
   "outputs": [],
   "source": [
    "#init scaler\n",
    "scaler = StandardScaler()"
   ]
  },
  {
   "cell_type": "code",
   "execution_count": 100,
   "id": "c677ffb2-68d4-49a7-9c22-bf73e605e587",
   "metadata": {},
   "outputs": [],
   "source": [
    "#apply scaler to normalize numerical features\n",
    "dataset[numerical_features] = scaler.fit_transform(dataset[numerical_features])"
   ]
  },
  {
   "cell_type": "code",
   "execution_count": 101,
   "id": "8dad1b27-49c3-4df2-b03d-a5ad25a9d839",
   "metadata": {},
   "outputs": [
    {
     "name": "stdout",
     "output_type": "stream",
     "text": [
      "Normalized Numerical Features:\n",
      "        Body_Length  Num_Recipients  Subject_Word_Count  Timestamp  \\\n",
      "406027     0.188646        1.107863           -0.958488   1.285490   \n",
      "371016    -0.227762       -0.321590           -0.958488   1.277355   \n",
      "509994     0.147819       -0.321590           -1.349887   0.565915   \n",
      "509870    -0.016689       -0.321590           -0.958488   0.662227   \n",
      "509830     0.283642       -0.321590           -0.958488   0.686146   \n",
      "\n",
      "        Time_Delta  Avg_Time_Between_Emails  \n",
      "406027         NaN                      NaN  \n",
      "371016         NaN                      NaN  \n",
      "509994         NaN                -0.066012  \n",
      "509870    0.385147                -0.066012  \n",
      "509830   -0.060319                -0.066012  \n"
     ]
    }
   ],
   "source": [
    "#verify normalised values\n",
    "print(\"Normalized Numerical Features:\")\n",
    "print(dataset[numerical_features].head())"
   ]
  },
  {
   "cell_type": "markdown",
   "id": "47bbdfc7-aec8-4578-b0e7-027e81491b05",
   "metadata": {},
   "source": [
    "<h2>Train test split</h2>"
   ]
  },
  {
   "cell_type": "code",
   "execution_count": 102,
   "id": "e12ac846-07fd-4ffd-81f9-060ef64bb200",
   "metadata": {},
   "outputs": [],
   "source": [
    "from sklearn.model_selection import train_test_split"
   ]
  },
  {
   "cell_type": "code",
   "execution_count": 103,
   "id": "8d599d56-cda0-4a4b-9224-5f0d8f288fca",
   "metadata": {},
   "outputs": [],
   "source": [
    "#define features (X) and target (y)\n",
    "X = dataset.drop(columns=['Label'])  #drop target column\n",
    "y = dataset['Label']  #target column\n"
   ]
  },
  {
   "cell_type": "code",
   "execution_count": 104,
   "id": "5b5ff8cb-2480-4331-b849-a60c08f68e22",
   "metadata": {},
   "outputs": [],
   "source": [
    "#80-20 split\n",
    "X_train, X_test, y_train, y_test = train_test_split(X, y, test_size=0.2, random_state=42, stratify=y)\n"
   ]
  },
  {
   "cell_type": "code",
   "execution_count": 105,
   "id": "b2c612f5-1498-4417-ab20-c774d839ca4a",
   "metadata": {},
   "outputs": [
    {
     "name": "stdout",
     "output_type": "stream",
     "text": [
      "Training set size: 242912\n",
      "Testing set size: 60729\n",
      "Label distribution in training set:\n",
      "Label\n",
      "0    0.886193\n",
      "1    0.113807\n",
      "Name: proportion, dtype: float64\n",
      "Label distribution in testing set:\n",
      "Label\n",
      "0    0.886199\n",
      "1    0.113801\n",
      "Name: proportion, dtype: float64\n"
     ]
    }
   ],
   "source": [
    "#verify split\n",
    "print(\"Training set size:\", X_train.shape[0])\n",
    "print(\"Testing set size:\", X_test.shape[0])\n",
    "print(\"Label distribution in training set:\")\n",
    "print(y_train.value_counts(normalize=True))\n",
    "print(\"Label distribution in testing set:\")\n",
    "print(y_test.value_counts(normalize=True))"
   ]
  },
  {
   "cell_type": "code",
   "execution_count": 113,
   "id": "0b185213-6d5c-47cf-aaa7-643c31ad1284",
   "metadata": {},
   "outputs": [
    {
     "name": "stdout",
     "output_type": "stream",
     "text": [
      "Non-numeric columns: Index(['Message-ID', 'From', 'To', 'Subject', 'Body', 'Sender_Domain'], dtype='object')\n"
     ]
    }
   ],
   "source": [
    "non_numeric_columns = X_train.select_dtypes(include=['object', 'category']).columns\n",
    "print(\"Non-numeric columns:\", non_numeric_columns)"
   ]
  },
  {
   "cell_type": "code",
   "execution_count": 114,
   "id": "1c442c24-52b4-41fd-b9d4-581413164e79",
   "metadata": {},
   "outputs": [],
   "source": [
    "#drop irrelevant non numeric columns\n",
    "X_train = X_train.drop(columns=non_numeric_columns, errors='ignore')\n",
    "X_test = X_test.drop(columns=non_numeric_columns, errors='ignore')\n"
   ]
  },
  {
   "cell_type": "code",
   "execution_count": 115,
   "id": "a8d55a7f-81b3-43a3-aa18-7c8988bcecf9",
   "metadata": {},
   "outputs": [
    {
     "name": "stdout",
     "output_type": "stream",
     "text": [
      "X_train dtypes after dropping non-numeric columns:\n",
      "Date                       datetime64[ns, UTC-07:00]\n",
      "Body_Length                                  float64\n",
      "Num_Recipients                               float64\n",
      "Subject_Word_Count                           float64\n",
      "Timestamp                                    float64\n",
      "Is_Trusted                                      bool\n",
      "Recipient_Count                                int64\n",
      "Suspicious_Subject                              bool\n",
      "Auth_Status                                    int64\n",
      "Contains_Links                                 int64\n",
      "Has_Attachment                                 int64\n",
      "Phishing_Keywords                               bool\n",
      "Interaction_Count                              int64\n",
      "Time_Delta                                   float64\n",
      "Avg_Time_Between_Emails                      float64\n",
      "Odd_Hours                                      int64\n",
      "dtype: object\n"
     ]
    }
   ],
   "source": [
    "#ensure all features are numeric\n",
    "print(\"X_train dtypes after dropping non-numeric columns:\")\n",
    "print(X_train.dtypes)"
   ]
  },
  {
   "cell_type": "code",
   "execution_count": 146,
   "id": "0f049738-7dfe-4cdd-8c8d-0a29cf2116e1",
   "metadata": {},
   "outputs": [
    {
     "name": "stdout",
     "output_type": "stream",
     "text": [
      "Sample of X_train:               Date  Body_Length  Num_Recipients  Subject_Word_Count  \\\n",
      "36952   1003869992    -0.111685        0.631379            1.781310   \n",
      "148686   987831720    -0.078197       -0.321590            0.998511   \n",
      "91549    960152760    -0.048577       -0.321590           -0.958488   \n",
      "283993   987687720    -0.217221       -0.321590            0.998511   \n",
      "213916   971813460    -0.005082        0.154895           -0.958488   \n",
      "\n",
      "        Timestamp  Is_Trusted  Recipient_Count  Suspicious_Subject  \\\n",
      "36952    1.281990        True                3               False   \n",
      "148686   0.368311        True                1               False   \n",
      "91549   -1.208523        True                1               False   \n",
      "283993   0.360107        True                1               False   \n",
      "213916  -0.544229       False                2               False   \n",
      "\n",
      "        Auth_Status  Contains_Links  Has_Attachment  Phishing_Keywords  \\\n",
      "36952             0               0               0              False   \n",
      "148686            0               0               0              False   \n",
      "91549             0               0               0              False   \n",
      "283993            0               0               0              False   \n",
      "213916            0               0               0              False   \n",
      "\n",
      "        Interaction_Count  Time_Delta  Avg_Time_Between_Emails  Odd_Hours  \n",
      "36952                  28    0.182014                -0.334142          0  \n",
      "148686               9141   -0.207511                -0.376449          0  \n",
      "91549                 274   -0.207511                -0.314796          0  \n",
      "283993               9141   -0.207511                -0.376449          0  \n",
      "213916                  3   -0.207511                -0.378698          0  \n"
     ]
    }
   ],
   "source": [
    "#check for remaining issues\n",
    "print(\"Sample of X_train:\", X_train.head())"
   ]
  },
  {
   "cell_type": "code",
   "execution_count": 138,
   "id": "e58d1259-e610-44e2-9742-68f300bbed91",
   "metadata": {},
   "outputs": [],
   "source": [
    "from sklearn.impute import SimpleImputer"
   ]
  },
  {
   "cell_type": "code",
   "execution_count": 139,
   "id": "cf86edd2-55ab-484d-952f-6107a6083faa",
   "metadata": {},
   "outputs": [
    {
     "name": "stdout",
     "output_type": "stream",
     "text": [
      "0\n"
     ]
    }
   ],
   "source": [
    "#create an imputer object with strategy replacing NaN with mean of the column\n",
    "imputer = SimpleImputer(strategy='mean')\n",
    "\n",
    "#apply imputer to both the training and test data\n",
    "X_train_imputed = imputer.fit_transform(X_train)\n",
    "X_test_imputed = imputer.transform(X_test)\n",
    "\n",
    "#verify\n",
    "print(pd.isnull(X_train_imputed).sum())"
   ]
  },
  {
   "cell_type": "code",
   "execution_count": null,
   "id": "e1846421-0df4-4e4a-aab0-27a642441303",
   "metadata": {},
   "outputs": [],
   "source": []
  },
  {
   "cell_type": "code",
   "execution_count": null,
   "id": "0df4684f-4770-424d-abe7-ea78c459ccb3",
   "metadata": {},
   "outputs": [],
   "source": []
  },
  {
   "cell_type": "markdown",
   "id": "4141a80d-812c-4ebd-985b-32536eaacfcb",
   "metadata": {},
   "source": [
    "<h2>SVM model training</h2>"
   ]
  },
  {
   "cell_type": "code",
   "execution_count": 140,
   "id": "8d6bcedf-d398-4e5f-927b-6c498230fdc2",
   "metadata": {},
   "outputs": [],
   "source": [
    "from sklearn.svm import SVC\n",
    "from sklearn.metrics import classification_report, confusion_matrix, accuracy_score"
   ]
  },
  {
   "cell_type": "code",
   "execution_count": 141,
   "id": "e64fd539-e69d-423d-9156-711468a62267",
   "metadata": {},
   "outputs": [],
   "source": [
    "#init model\n",
    "svm_model = SVC(kernel='rbf', C=1.0, gamma='scale', random_state=42)  # 'rbf' kernel for non-linear classification"
   ]
  },
  {
   "cell_type": "code",
   "execution_count": 160,
   "id": "fd060d0b-207b-4c31-b7a5-8218040c9149",
   "metadata": {},
   "outputs": [],
   "source": [
    "#weight adjustment after first result set.\n",
    "svm_model = SVC(class_weight='balanced')"
   ]
  },
  {
   "cell_type": "code",
   "execution_count": 161,
   "id": "00aca522-4f61-4acc-b96f-aff510e65f38",
   "metadata": {},
   "outputs": [
    {
     "data": {
      "text/html": [
       "<style>#sk-container-id-2 {color: black;}#sk-container-id-2 pre{padding: 0;}#sk-container-id-2 div.sk-toggleable {background-color: white;}#sk-container-id-2 label.sk-toggleable__label {cursor: pointer;display: block;width: 100%;margin-bottom: 0;padding: 0.3em;box-sizing: border-box;text-align: center;}#sk-container-id-2 label.sk-toggleable__label-arrow:before {content: \"▸\";float: left;margin-right: 0.25em;color: #696969;}#sk-container-id-2 label.sk-toggleable__label-arrow:hover:before {color: black;}#sk-container-id-2 div.sk-estimator:hover label.sk-toggleable__label-arrow:before {color: black;}#sk-container-id-2 div.sk-toggleable__content {max-height: 0;max-width: 0;overflow: hidden;text-align: left;background-color: #f0f8ff;}#sk-container-id-2 div.sk-toggleable__content pre {margin: 0.2em;color: black;border-radius: 0.25em;background-color: #f0f8ff;}#sk-container-id-2 input.sk-toggleable__control:checked~div.sk-toggleable__content {max-height: 200px;max-width: 100%;overflow: auto;}#sk-container-id-2 input.sk-toggleable__control:checked~label.sk-toggleable__label-arrow:before {content: \"▾\";}#sk-container-id-2 div.sk-estimator input.sk-toggleable__control:checked~label.sk-toggleable__label {background-color: #d4ebff;}#sk-container-id-2 div.sk-label input.sk-toggleable__control:checked~label.sk-toggleable__label {background-color: #d4ebff;}#sk-container-id-2 input.sk-hidden--visually {border: 0;clip: rect(1px 1px 1px 1px);clip: rect(1px, 1px, 1px, 1px);height: 1px;margin: -1px;overflow: hidden;padding: 0;position: absolute;width: 1px;}#sk-container-id-2 div.sk-estimator {font-family: monospace;background-color: #f0f8ff;border: 1px dotted black;border-radius: 0.25em;box-sizing: border-box;margin-bottom: 0.5em;}#sk-container-id-2 div.sk-estimator:hover {background-color: #d4ebff;}#sk-container-id-2 div.sk-parallel-item::after {content: \"\";width: 100%;border-bottom: 1px solid gray;flex-grow: 1;}#sk-container-id-2 div.sk-label:hover label.sk-toggleable__label {background-color: #d4ebff;}#sk-container-id-2 div.sk-serial::before {content: \"\";position: absolute;border-left: 1px solid gray;box-sizing: border-box;top: 0;bottom: 0;left: 50%;z-index: 0;}#sk-container-id-2 div.sk-serial {display: flex;flex-direction: column;align-items: center;background-color: white;padding-right: 0.2em;padding-left: 0.2em;position: relative;}#sk-container-id-2 div.sk-item {position: relative;z-index: 1;}#sk-container-id-2 div.sk-parallel {display: flex;align-items: stretch;justify-content: center;background-color: white;position: relative;}#sk-container-id-2 div.sk-item::before, #sk-container-id-2 div.sk-parallel-item::before {content: \"\";position: absolute;border-left: 1px solid gray;box-sizing: border-box;top: 0;bottom: 0;left: 50%;z-index: -1;}#sk-container-id-2 div.sk-parallel-item {display: flex;flex-direction: column;z-index: 1;position: relative;background-color: white;}#sk-container-id-2 div.sk-parallel-item:first-child::after {align-self: flex-end;width: 50%;}#sk-container-id-2 div.sk-parallel-item:last-child::after {align-self: flex-start;width: 50%;}#sk-container-id-2 div.sk-parallel-item:only-child::after {width: 0;}#sk-container-id-2 div.sk-dashed-wrapped {border: 1px dashed gray;margin: 0 0.4em 0.5em 0.4em;box-sizing: border-box;padding-bottom: 0.4em;background-color: white;}#sk-container-id-2 div.sk-label label {font-family: monospace;font-weight: bold;display: inline-block;line-height: 1.2em;}#sk-container-id-2 div.sk-label-container {text-align: center;}#sk-container-id-2 div.sk-container {/* jupyter's `normalize.less` sets `[hidden] { display: none; }` but bootstrap.min.css set `[hidden] { display: none !important; }` so we also need the `!important` here to be able to override the default hidden behavior on the sphinx rendered scikit-learn.org. See: https://github.com/scikit-learn/scikit-learn/issues/21755 */display: inline-block !important;position: relative;}#sk-container-id-2 div.sk-text-repr-fallback {display: none;}</style><div id=\"sk-container-id-2\" class=\"sk-top-container\"><div class=\"sk-text-repr-fallback\"><pre>SVC(class_weight=&#x27;balanced&#x27;)</pre><b>In a Jupyter environment, please rerun this cell to show the HTML representation or trust the notebook. <br />On GitHub, the HTML representation is unable to render, please try loading this page with nbviewer.org.</b></div><div class=\"sk-container\" hidden><div class=\"sk-item\"><div class=\"sk-estimator sk-toggleable\"><input class=\"sk-toggleable__control sk-hidden--visually\" id=\"sk-estimator-id-2\" type=\"checkbox\" checked><label for=\"sk-estimator-id-2\" class=\"sk-toggleable__label sk-toggleable__label-arrow\">SVC</label><div class=\"sk-toggleable__content\"><pre>SVC(class_weight=&#x27;balanced&#x27;)</pre></div></div></div></div></div>"
      ],
      "text/plain": [
       "SVC(class_weight='balanced')"
      ]
     },
     "execution_count": 161,
     "metadata": {},
     "output_type": "execute_result"
    }
   ],
   "source": [
    "# Ttrain the SVM model\n",
    "svm_model.fit(X_train_imputed, y_train)"
   ]
  },
  {
   "cell_type": "code",
   "execution_count": 162,
   "id": "90ad47db-2554-424d-b12f-6d9441e36e50",
   "metadata": {
    "scrolled": true
   },
   "outputs": [
    {
     "name": "stdout",
     "output_type": "stream",
     "text": [
      "Date                           0\n",
      "Body_Length                    0\n",
      "Num_Recipients                 0\n",
      "Subject_Word_Count             0\n",
      "Timestamp                      0\n",
      "Is_Trusted                     0\n",
      "Recipient_Count                0\n",
      "Suspicious_Subject             0\n",
      "Auth_Status                    0\n",
      "Contains_Links                 0\n",
      "Has_Attachment                 0\n",
      "Phishing_Keywords              0\n",
      "Interaction_Count              0\n",
      "Time_Delta                 13319\n",
      "Avg_Time_Between_Emails     4877\n",
      "Odd_Hours                      0\n",
      "dtype: int64\n"
     ]
    }
   ],
   "source": [
    "#check for missing values in X_test\n",
    "print(X_test.isnull().sum())"
   ]
  },
  {
   "cell_type": "code",
   "execution_count": 163,
   "id": "74b5bef2-df59-4d08-8bce-5d8d83806ef0",
   "metadata": {},
   "outputs": [
    {
     "name": "stdout",
     "output_type": "stream",
     "text": [
      "0\n"
     ]
    }
   ],
   "source": [
    "#usesame imputer to transform the test data\n",
    "X_test_imputed = imputer.transform(X_test)\n",
    "\n",
    "#check again for missing values\n",
    "print(pd.isnull(X_test_imputed).sum())\n"
   ]
  },
  {
   "cell_type": "code",
   "execution_count": null,
   "id": "faed448a-f5bf-41b3-8835-d372e571bf58",
   "metadata": {},
   "outputs": [],
   "source": [
    "y_pred = svm_model.predict(X_test_imputed)"
   ]
  },
  {
   "cell_type": "code",
   "execution_count": null,
   "id": "64475659-ea6f-4bc3-bd31-429e3a1c3ea9",
   "metadata": {},
   "outputs": [],
   "source": [
    "#evaluate the model\n",
    "print(\"SVM Model Performance on Test Data:\")\n",
    "print(\"Accuracy:\", accuracy_score(y_test, y_pred))\n",
    "print(\"\\nClassification Report:\")\n",
    "print(classification_report(y_test, y_pred))\n"
   ]
  },
  {
   "cell_type": "code",
   "execution_count": null,
   "id": "b0c75714-d740-46c3-96e5-33aed6938d97",
   "metadata": {},
   "outputs": [],
   "source": [
    "#confusion matrix\n",
    "conf_matrix = confusion_matrix(y_test, y_pred)\n",
    "print(\"\\nConfusion Matrix:\")\n",
    "print(conf_matrix)"
   ]
  },
  {
   "cell_type": "code",
   "execution_count": 159,
   "id": "fc0ecd32-bb55-43ce-8283-6b13a31f795b",
   "metadata": {},
   "outputs": [
    {
     "name": "stdout",
     "output_type": "stream",
     "text": [
      "No missing values in the dataset\n"
     ]
    }
   ],
   "source": [
    "\n",
    "if emails_df.isnull().values.any():\n",
    "    print(\"There are missing values in the dataset\")\n",
    "else:\n",
    "    print(\"No missing values in the dataset\")"
   ]
  },
  {
   "cell_type": "code",
   "execution_count": null,
   "id": "4cacc2e4-2ea5-4cf2-8cec-9d072e6e61c2",
   "metadata": {},
   "outputs": [],
   "source": []
  }
 ],
 "metadata": {
  "kernelspec": {
   "display_name": "Python 3 (ipykernel)",
   "language": "python",
   "name": "python3"
  },
  "language_info": {
   "codemirror_mode": {
    "name": "ipython",
    "version": 3
   },
   "file_extension": ".py",
   "mimetype": "text/x-python",
   "name": "python",
   "nbconvert_exporter": "python",
   "pygments_lexer": "ipython3",
   "version": "3.8.3"
  }
 },
 "nbformat": 4,
 "nbformat_minor": 5
}
